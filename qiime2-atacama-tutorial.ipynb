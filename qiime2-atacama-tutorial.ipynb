{
 "cells": [
  {
   "cell_type": "markdown",
   "id": "3e1edebb",
   "metadata": {},
   "source": [
    "### Importing Required Libraries"
   ]
  },
  {
   "cell_type": "code",
   "execution_count": 1,
   "id": "90e637ea",
   "metadata": {},
   "outputs": [],
   "source": [
    "import pandas as pd\n",
    "import numpy as np\n",
    "import matplotlib.pyplot as plt\n",
    "import seaborn as sns\n",
    "import scipy.stats as stats\n",
    "from qiime2 import Metadata\n",
    "from urllib import request\n",
    "from qiime2 import Visualization\n",
    "from scipy.stats import spearmanr"
   ]
  },
  {
   "cell_type": "markdown",
   "id": "c468cddb",
   "metadata": {},
   "source": [
    "### Downloading data sets"
   ]
  },
  {
   "cell_type": "code",
   "execution_count": null,
   "id": "ba0a6a82",
   "metadata": {},
   "outputs": [],
   "source": [
    "!wget \\\n",
    "  -O \"sample-metadata.tsv\" \\\n",
    "  \"https://data.qiime2.org/2023.5/tutorials/atacama-soils/sample_metadata.tsv\""
   ]
  },
  {
   "cell_type": "markdown",
   "id": "2c7af189",
   "metadata": {},
   "source": [
    "### Visualization of downloaded data sets"
   ]
  },
  {
   "cell_type": "code",
   "execution_count": 2,
   "id": "a372b458",
   "metadata": {},
   "outputs": [
    {
     "name": "stdout",
     "output_type": "stream",
     "text": [
      "\u001b[32mSaved Visualization to: metadata-summ-1.qzv\u001b[0m\n",
      "\u001b[0m"
     ]
    }
   ],
   "source": [
    "!qiime metadata tabulate \\\n",
    "  --m-input-file sample-metadata.tsv \\\n",
    "  --o-visualization metadata-summ-1.qzv"
   ]
  },
  {
   "cell_type": "markdown",
   "id": "737a2d73",
   "metadata": {},
   "source": [
    "### Reading metadata as TSV file"
   ]
  },
  {
   "cell_type": "code",
   "execution_count": 3,
   "id": "d8b9502e",
   "metadata": {},
   "outputs": [],
   "source": [
    "metadata=pd.read_csv('sample-metadata.tsv', sep='\\t')"
   ]
  },
  {
   "cell_type": "code",
   "execution_count": 4,
   "id": "3cada97e",
   "metadata": {},
   "outputs": [
    {
     "data": {
      "text/html": [
       "<div>\n",
       "<style scoped>\n",
       "    .dataframe tbody tr th:only-of-type {\n",
       "        vertical-align: middle;\n",
       "    }\n",
       "\n",
       "    .dataframe tbody tr th {\n",
       "        vertical-align: top;\n",
       "    }\n",
       "\n",
       "    .dataframe thead th {\n",
       "        text-align: right;\n",
       "    }\n",
       "</style>\n",
       "<table border=\"1\" class=\"dataframe\">\n",
       "  <thead>\n",
       "    <tr style=\"text-align: right;\">\n",
       "      <th></th>\n",
       "      <th>sample-id</th>\n",
       "      <th>barcode-sequence</th>\n",
       "      <th>elevation</th>\n",
       "      <th>extract-concen</th>\n",
       "      <th>amplicon-concentration</th>\n",
       "      <th>extract-group-no</th>\n",
       "      <th>transect-name</th>\n",
       "      <th>site-name</th>\n",
       "      <th>depth</th>\n",
       "      <th>ph</th>\n",
       "      <th>...</th>\n",
       "      <th>ec</th>\n",
       "      <th>average-soil-relative-humidity</th>\n",
       "      <th>relative-humidity-soil-high</th>\n",
       "      <th>relative-humidity-soil-low</th>\n",
       "      <th>percent-relative-humidity-soil-100</th>\n",
       "      <th>average-soil-temperature</th>\n",
       "      <th>temperature-soil-high</th>\n",
       "      <th>temperature-soil-low</th>\n",
       "      <th>vegetation</th>\n",
       "      <th>percentcover</th>\n",
       "    </tr>\n",
       "  </thead>\n",
       "  <tbody>\n",
       "    <tr>\n",
       "      <th>0</th>\n",
       "      <td>#q2:types</td>\n",
       "      <td>categorical</td>\n",
       "      <td>numeric</td>\n",
       "      <td>numeric</td>\n",
       "      <td>numeric</td>\n",
       "      <td>categorical</td>\n",
       "      <td>categorical</td>\n",
       "      <td>categorical</td>\n",
       "      <td>numeric</td>\n",
       "      <td>numeric</td>\n",
       "      <td>...</td>\n",
       "      <td>numeric</td>\n",
       "      <td>numeric</td>\n",
       "      <td>numeric</td>\n",
       "      <td>numeric</td>\n",
       "      <td>numeric</td>\n",
       "      <td>numeric</td>\n",
       "      <td>numeric</td>\n",
       "      <td>numeric</td>\n",
       "      <td>categorical</td>\n",
       "      <td>numeric</td>\n",
       "    </tr>\n",
       "    <tr>\n",
       "      <th>1</th>\n",
       "      <td>BAQ1370.1.2</td>\n",
       "      <td>GCCCAAGTTCAC</td>\n",
       "      <td>1370</td>\n",
       "      <td>0.019</td>\n",
       "      <td>0.950</td>\n",
       "      <td>B</td>\n",
       "      <td>Baquedano</td>\n",
       "      <td>BAQ1370</td>\n",
       "      <td>2</td>\n",
       "      <td>7.98</td>\n",
       "      <td>...</td>\n",
       "      <td>6.08</td>\n",
       "      <td>16.17</td>\n",
       "      <td>23.97</td>\n",
       "      <td>11.42</td>\n",
       "      <td>0</td>\n",
       "      <td>22.61</td>\n",
       "      <td>35.21</td>\n",
       "      <td>12.46</td>\n",
       "      <td>no</td>\n",
       "      <td>0</td>\n",
       "    </tr>\n",
       "    <tr>\n",
       "      <th>2</th>\n",
       "      <td>BAQ1370.3</td>\n",
       "      <td>GCGCCGAATCTT</td>\n",
       "      <td>1370</td>\n",
       "      <td>0.124</td>\n",
       "      <td>17.460</td>\n",
       "      <td>E</td>\n",
       "      <td>Baquedano</td>\n",
       "      <td>BAQ1370</td>\n",
       "      <td>2</td>\n",
       "      <td>NaN</td>\n",
       "      <td>...</td>\n",
       "      <td>6.08</td>\n",
       "      <td>16.17</td>\n",
       "      <td>23.97</td>\n",
       "      <td>11.42</td>\n",
       "      <td>0</td>\n",
       "      <td>22.61</td>\n",
       "      <td>35.21</td>\n",
       "      <td>12.46</td>\n",
       "      <td>no</td>\n",
       "      <td>0</td>\n",
       "    </tr>\n",
       "    <tr>\n",
       "      <th>3</th>\n",
       "      <td>BAQ1370.1.3</td>\n",
       "      <td>ATAAAGAGGAGG</td>\n",
       "      <td>1370</td>\n",
       "      <td>1.200</td>\n",
       "      <td>0.960</td>\n",
       "      <td>J</td>\n",
       "      <td>Baquedano</td>\n",
       "      <td>BAQ1370</td>\n",
       "      <td>3</td>\n",
       "      <td>8.13</td>\n",
       "      <td>...</td>\n",
       "      <td>NaN</td>\n",
       "      <td>16.17</td>\n",
       "      <td>23.97</td>\n",
       "      <td>11.42</td>\n",
       "      <td>0</td>\n",
       "      <td>22.61</td>\n",
       "      <td>35.21</td>\n",
       "      <td>12.46</td>\n",
       "      <td>no</td>\n",
       "      <td>0</td>\n",
       "    </tr>\n",
       "    <tr>\n",
       "      <th>4</th>\n",
       "      <td>BAQ1552.1.1</td>\n",
       "      <td>ATCCCAGCATGC</td>\n",
       "      <td>1552</td>\n",
       "      <td>0.722</td>\n",
       "      <td>18.830</td>\n",
       "      <td>J</td>\n",
       "      <td>Baquedano</td>\n",
       "      <td>BAQ1552</td>\n",
       "      <td>1</td>\n",
       "      <td>7.87</td>\n",
       "      <td>...</td>\n",
       "      <td>NaN</td>\n",
       "      <td>15.75</td>\n",
       "      <td>35.36</td>\n",
       "      <td>11.1</td>\n",
       "      <td>0</td>\n",
       "      <td>22.63</td>\n",
       "      <td>30.65</td>\n",
       "      <td>10.96</td>\n",
       "      <td>no</td>\n",
       "      <td>0</td>\n",
       "    </tr>\n",
       "  </tbody>\n",
       "</table>\n",
       "<p>5 rows × 21 columns</p>\n",
       "</div>"
      ],
      "text/plain": [
       "     sample-id barcode-sequence elevation extract-concen  \\\n",
       "0    #q2:types      categorical   numeric        numeric   \n",
       "1  BAQ1370.1.2     GCCCAAGTTCAC      1370          0.019   \n",
       "2    BAQ1370.3     GCGCCGAATCTT      1370          0.124   \n",
       "3  BAQ1370.1.3     ATAAAGAGGAGG      1370          1.200   \n",
       "4  BAQ1552.1.1     ATCCCAGCATGC      1552          0.722   \n",
       "\n",
       "  amplicon-concentration extract-group-no transect-name    site-name    depth  \\\n",
       "0                numeric      categorical   categorical  categorical  numeric   \n",
       "1                  0.950                B     Baquedano      BAQ1370        2   \n",
       "2                 17.460                E     Baquedano      BAQ1370        2   \n",
       "3                  0.960                J     Baquedano      BAQ1370        3   \n",
       "4                 18.830                J     Baquedano      BAQ1552        1   \n",
       "\n",
       "        ph  ...       ec average-soil-relative-humidity  \\\n",
       "0  numeric  ...  numeric                        numeric   \n",
       "1     7.98  ...     6.08                          16.17   \n",
       "2      NaN  ...     6.08                          16.17   \n",
       "3     8.13  ...      NaN                          16.17   \n",
       "4     7.87  ...      NaN                          15.75   \n",
       "\n",
       "  relative-humidity-soil-high relative-humidity-soil-low  \\\n",
       "0                     numeric                    numeric   \n",
       "1                       23.97                      11.42   \n",
       "2                       23.97                      11.42   \n",
       "3                       23.97                      11.42   \n",
       "4                       35.36                       11.1   \n",
       "\n",
       "  percent-relative-humidity-soil-100 average-soil-temperature  \\\n",
       "0                            numeric                  numeric   \n",
       "1                                  0                    22.61   \n",
       "2                                  0                    22.61   \n",
       "3                                  0                    22.61   \n",
       "4                                  0                    22.63   \n",
       "\n",
       "  temperature-soil-high temperature-soil-low   vegetation percentcover  \n",
       "0               numeric              numeric  categorical      numeric  \n",
       "1                 35.21                12.46           no            0  \n",
       "2                 35.21                12.46           no            0  \n",
       "3                 35.21                12.46           no            0  \n",
       "4                 30.65                10.96           no            0  \n",
       "\n",
       "[5 rows x 21 columns]"
      ]
     },
     "execution_count": 4,
     "metadata": {},
     "output_type": "execute_result"
    }
   ],
   "source": [
    "metadata.head()"
   ]
  },
  {
   "cell_type": "code",
   "execution_count": null,
   "id": "e5ada6ea",
   "metadata": {},
   "outputs": [],
   "source": [
    "cd qiime2-atacama-tutorial"
   ]
  },
  {
   "cell_type": "markdown",
   "id": "dc000783",
   "metadata": {},
   "source": [
    "### Downloading the forward sequences"
   ]
  },
  {
   "cell_type": "code",
   "execution_count": 5,
   "id": "cbd420a0",
   "metadata": {},
   "outputs": [
    {
     "name": "stdout",
     "output_type": "stream",
     "text": [
      "--2023-07-07 11:46:44--  https://data.qiime2.org/2023.5/tutorials/atacama-soils/10p/forward.fastq.gz\n",
      "Resolving data.qiime2.org (data.qiime2.org)... 54.200.1.12\n",
      "Connecting to data.qiime2.org (data.qiime2.org)|54.200.1.12|:443... connected.\n",
      "HTTP request sent, awaiting response... 302 FOUND\n",
      "Location: https://s3-us-west-2.amazonaws.com/qiime2-data/2023.5/tutorials/atacama-soils/10p/forward.fastq.gz [following]\n",
      "--2023-07-07 11:46:45--  https://s3-us-west-2.amazonaws.com/qiime2-data/2023.5/tutorials/atacama-soils/10p/forward.fastq.gz\n",
      "Resolving s3-us-west-2.amazonaws.com (s3-us-west-2.amazonaws.com)... 52.92.155.120, 52.92.243.32, 52.218.132.0, ...\n",
      "Connecting to s3-us-west-2.amazonaws.com (s3-us-west-2.amazonaws.com)|52.92.155.120|:443... connected.\n",
      "HTTP request sent, awaiting response... 200 OK\n",
      "Length: 143193967 (137M) [binary/octet-stream]\n",
      "Saving to: ‘emp-paired-end-sequences/forward.fastq.gz’\n",
      "\n",
      "emp-paired-end-sequ 100%[===================>] 136.56M  3.92MB/s    in 41s     \n",
      "\n",
      "2023-07-07 11:47:26 (3.37 MB/s) - ‘emp-paired-end-sequences/forward.fastq.gz’ saved [143193967/143193967]\n",
      "\n"
     ]
    }
   ],
   "source": [
    "!wget \\\n",
    "  -O \"emp-paired-end-sequences/forward.fastq.gz\" \\\n",
    "  \"https://data.qiime2.org/2023.5/tutorials/atacama-soils/10p/forward.fastq.gz\""
   ]
  },
  {
   "cell_type": "markdown",
   "id": "ffd0b9b1",
   "metadata": {},
   "source": [
    "### Downloading the reverse sequences"
   ]
  },
  {
   "cell_type": "code",
   "execution_count": null,
   "id": "f573161a",
   "metadata": {},
   "outputs": [],
   "source": [
    "!wget \\\n",
    "  -O \"emp-paired-end-sequences/reverse.fastq.gz\" \\\n",
    "  \"https://data.qiime2.org/2023.5/tutorials/atacama-soils/10p/reverse.fastq.gz\""
   ]
  },
  {
   "cell_type": "code",
   "execution_count": 6,
   "id": "7af0fab5",
   "metadata": {},
   "outputs": [
    {
     "name": "stdout",
     "output_type": "stream",
     "text": [
      "mkdir: cannot create directory ‘emp-paired-end-sequences’: File exists\r\n"
     ]
    }
   ],
   "source": [
    "mkdir emp-paired-end-sequences"
   ]
  },
  {
   "cell_type": "code",
   "execution_count": 7,
   "id": "ef3b6bad",
   "metadata": {},
   "outputs": [
    {
     "data": {
      "text/plain": [
       "('emp-paired-end-sequences/barcodes.fastq.gz',\n",
       " <http.client.HTTPMessage at 0x7f340193eee0>)"
      ]
     },
     "execution_count": 7,
     "metadata": {},
     "output_type": "execute_result"
    }
   ],
   "source": [
    "url = 'https://data.qiime2.org/2023.5/tutorials/atacama-soils/10p/barcodes.fastq.gz'\n",
    "fn = 'emp-paired-end-sequences/barcodes.fastq.gz'\n",
    "request.urlretrieve(url, fn)"
   ]
  },
  {
   "cell_type": "markdown",
   "id": "a06e4022",
   "metadata": {},
   "source": [
    "### Importing sequences in to the EMPPairedEndSequences artifact type"
   ]
  },
  {
   "cell_type": "code",
   "execution_count": 8,
   "id": "0b75d03f",
   "metadata": {},
   "outputs": [
    {
     "name": "stdout",
     "output_type": "stream",
     "text": [
      "\u001b[32mImported emp-paired-end-sequences as EMPPairedEndDirFmt to emp-paired-end-sequences.qza\u001b[0m\n",
      "\u001b[0m"
     ]
    }
   ],
   "source": [
    "!qiime tools import \\\n",
    "   --type EMPPairedEndSequences \\\n",
    "   --input-path emp-paired-end-sequences \\\n",
    "   --output-path emp-paired-end-sequences.qza"
   ]
  },
  {
   "cell_type": "markdown",
   "id": "0fcd64fb",
   "metadata": {},
   "source": [
    "### Demultiplexing"
   ]
  },
  {
   "cell_type": "code",
   "execution_count": 9,
   "id": "df6ea192",
   "metadata": {},
   "outputs": [
    {
     "name": "stdout",
     "output_type": "stream",
     "text": [
      "\u001b[32mSaved SampleData[PairedEndSequencesWithQuality] to: demux-full.qza\u001b[0m\n",
      "\u001b[32mSaved ErrorCorrectionDetails to: demux-details.qza\u001b[0m\n",
      "\u001b[0m"
     ]
    }
   ],
   "source": [
    "!qiime demux emp-paired \\\n",
    "  --m-barcodes-file sample-metadata.tsv \\\n",
    "  --m-barcodes-column barcode-sequence \\\n",
    "  --p-rev-comp-mapping-barcodes \\\n",
    "  --i-seqs emp-paired-end-sequences.qza \\\n",
    "  --o-per-sample-sequences demux-full.qza \\\n",
    "  --o-error-correction-details demux-details.qza"
   ]
  },
  {
   "cell_type": "markdown",
   "id": "ad7afa68",
   "metadata": {},
   "source": [
    "### Subsampling"
   ]
  },
  {
   "cell_type": "code",
   "execution_count": 10,
   "id": "a1fb1aab",
   "metadata": {},
   "outputs": [
    {
     "name": "stdout",
     "output_type": "stream",
     "text": [
      "\u001b[32mSaved SampleData[PairedEndSequencesWithQuality] to: demux-subsample.qza\u001b[0m\n",
      "\u001b[0m\u001b[32mSaved Visualization to: demux-subsample.qzv\u001b[0m\n",
      "\u001b[0m"
     ]
    }
   ],
   "source": [
    "!qiime demux subsample-paired \\\n",
    "  --i-sequences demux-full.qza \\\n",
    "  --p-fraction 0.3 \\\n",
    "  --o-subsampled-sequences demux-subsample.qza\n",
    "\n",
    "!qiime demux summarize \\\n",
    "  --i-data demux-subsample.qza \\\n",
    "  --o-visualization demux-subsample.qzv"
   ]
  },
  {
   "cell_type": "code",
   "execution_count": 11,
   "id": "e28d2b21",
   "metadata": {
    "scrolled": true
   },
   "outputs": [
    {
     "data": {
      "text/html": [
       "<div><img onload=\"(function(div, url){\n",
       "if (typeof require !== 'undefined') {\n",
       "    var baseURL = require.toUrl('').split('/').slice(0, -2).join('/');\n",
       "} else {\n",
       "    var baseURL = JSON.parse(\n",
       "        document.getElementById('jupyter-config-data').innerHTML\n",
       "    ).baseUrl.slice(0, -1);\n",
       "}\n",
       "url = baseURL + url;\n",
       "fetch(url).then(function(res) {\n",
       "    if (res.status === 404) {\n",
       "        div.innerHTML = 'Install QIIME 2 Jupyter extension with:<br />' +\n",
       "                        '<code>jupyter serverextension enable --py qiime2' +\n",
       "                        ' --sys-prefix</code><br />then restart your server.' +\n",
       "                        '<br /><br />(Interactive output not available on ' +\n",
       "                        'static notebook viewer services like nbviewer.)';\n",
       "    } else if (res.status === 409) {\n",
       "        div.innerHTML = 'Visualization no longer in scope. Re-run this cell' +\n",
       "                        ' to see the visualization.';\n",
       "    } else if (res.ok) {\n",
       "        url = res.url;\n",
       "        div.innerHTML = '<iframe src=\\'' + url + '\\' style=\\'' +\n",
       "                        'width: 100%; height: 700px; border: 0;\\'>' +\n",
       "                        '</iframe><hr />Open in a: <a href=\\'' + url + '\\'' +\n",
       "                        ' target=\\'_blank\\'>new window</a>'\n",
       "    } else {\n",
       "        div.innerHTML = 'Something has gone wrong. Check notebook server for' +\n",
       "                        ' errors.';\n",
       "    }\n",
       "});\n",
       "})(this.parentElement, '/qiime2/redirect?location=/tmp/qiime2/kingosz/data/4f05265b-1566-4aa0-9e5c-45df1d223d29')\" src=\"data:image/gif;base64,R0lGODlhAQABAIAAAP///wAAACH5BAEAAAAALAAAAAABAAEAAAICRAEAOw==\" /></div>"
      ],
      "text/plain": [
       "<visualization: Visualization uuid: 4f05265b-1566-4aa0-9e5c-45df1d223d29>"
      ]
     },
     "execution_count": 11,
     "metadata": {},
     "output_type": "execute_result"
    }
   ],
   "source": [
    "Visualization.load('demux-subsample.qzv')"
   ]
  },
  {
   "cell_type": "markdown",
   "id": "9346db23",
   "metadata": {},
   "source": [
    "### Filltering out sequences shorter than 100"
   ]
  },
  {
   "cell_type": "code",
   "execution_count": 12,
   "id": "2b13bbbf",
   "metadata": {},
   "outputs": [
    {
     "name": "stdout",
     "output_type": "stream",
     "text": [
      "\u001b[32mExported demux-subsample.qzv as Visualization to directory ./demux-subsample/\u001b[0m\n",
      "\u001b[32mSaved SampleData[PairedEndSequencesWithQuality] to: demux.qza\u001b[0m\n",
      "\u001b[0m"
     ]
    }
   ],
   "source": [
    "!qiime tools export \\\n",
    "  --input-path demux-subsample.qzv \\\n",
    "  --output-path ./demux-subsample/\n",
    "\n",
    "!qiime demux filter-samples \\\n",
    "  --i-demux demux-subsample.qza \\\n",
    "  --m-metadata-file ./demux-subsample/per-sample-fastq-counts.tsv \\\n",
    "  --p-where 'CAST([forward sequence count] AS INT) > 100' \\\n",
    "  --o-filtered-demux demux.qza"
   ]
  },
  {
   "cell_type": "code",
   "execution_count": 13,
   "id": "61f3413e",
   "metadata": {},
   "outputs": [
    {
     "name": "stdout",
     "output_type": "stream",
     "text": [
      "\u001b[32mSaved Visualization to: demux.qzv\u001b[0m\n",
      "\u001b[0m"
     ]
    }
   ],
   "source": [
    "!qiime demux summarize \\\n",
    "  --i-data demux.qza \\\n",
    "  --o-visualization demux.qzv"
   ]
  },
  {
   "cell_type": "code",
   "execution_count": 14,
   "id": "08f023d8",
   "metadata": {},
   "outputs": [
    {
     "data": {
      "text/html": [
       "<div><img onload=\"(function(div, url){\n",
       "if (typeof require !== 'undefined') {\n",
       "    var baseURL = require.toUrl('').split('/').slice(0, -2).join('/');\n",
       "} else {\n",
       "    var baseURL = JSON.parse(\n",
       "        document.getElementById('jupyter-config-data').innerHTML\n",
       "    ).baseUrl.slice(0, -1);\n",
       "}\n",
       "url = baseURL + url;\n",
       "fetch(url).then(function(res) {\n",
       "    if (res.status === 404) {\n",
       "        div.innerHTML = 'Install QIIME 2 Jupyter extension with:<br />' +\n",
       "                        '<code>jupyter serverextension enable --py qiime2' +\n",
       "                        ' --sys-prefix</code><br />then restart your server.' +\n",
       "                        '<br /><br />(Interactive output not available on ' +\n",
       "                        'static notebook viewer services like nbviewer.)';\n",
       "    } else if (res.status === 409) {\n",
       "        div.innerHTML = 'Visualization no longer in scope. Re-run this cell' +\n",
       "                        ' to see the visualization.';\n",
       "    } else if (res.ok) {\n",
       "        url = res.url;\n",
       "        div.innerHTML = '<iframe src=\\'' + url + '\\' style=\\'' +\n",
       "                        'width: 100%; height: 700px; border: 0;\\'>' +\n",
       "                        '</iframe><hr />Open in a: <a href=\\'' + url + '\\'' +\n",
       "                        ' target=\\'_blank\\'>new window</a>'\n",
       "    } else {\n",
       "        div.innerHTML = 'Something has gone wrong. Check notebook server for' +\n",
       "                        ' errors.';\n",
       "    }\n",
       "});\n",
       "})(this.parentElement, '/qiime2/redirect?location=/tmp/qiime2/kingosz/data/1177be91-20c1-4598-89dd-1f89e03d8615')\" src=\"data:image/gif;base64,R0lGODlhAQABAIAAAP///wAAACH5BAEAAAAALAAAAAABAAEAAAICRAEAOw==\" /></div>"
      ],
      "text/plain": [
       "<visualization: Visualization uuid: 1177be91-20c1-4598-89dd-1f89e03d8615>"
      ]
     },
     "execution_count": 14,
     "metadata": {},
     "output_type": "execute_result"
    }
   ],
   "source": [
    "Visualization.load('demux.qzv')"
   ]
  },
  {
   "cell_type": "markdown",
   "id": "8f8498bf",
   "metadata": {},
   "source": [
    "### Denoising"
   ]
  },
  {
   "cell_type": "code",
   "execution_count": 15,
   "id": "4e4f02dd",
   "metadata": {},
   "outputs": [
    {
     "name": "stdout",
     "output_type": "stream",
     "text": [
      "\u001b[32mSaved FeatureTable[Frequency] to: table.qza\u001b[0m\n",
      "\u001b[32mSaved FeatureData[Sequence] to: rep-seqs.qza\u001b[0m\n",
      "\u001b[32mSaved SampleData[DADA2Stats] to: denoising-stats.qza\u001b[0m\n",
      "\u001b[0m"
     ]
    }
   ],
   "source": [
    "!qiime dada2 denoise-paired \\\n",
    "  --i-demultiplexed-seqs demux.qza \\\n",
    "  --p-trim-left-f 13 \\\n",
    "  --p-trim-left-r 13 \\\n",
    "  --p-trunc-len-f 150 \\\n",
    "  --p-trunc-len-r 150 \\\n",
    "  --o-table table.qza \\\n",
    "  --o-representative-sequences rep-seqs.qza \\\n",
    "  --o-denoising-stats denoising-stats.qza"
   ]
  },
  {
   "cell_type": "markdown",
   "id": "4c573ee3",
   "metadata": {},
   "source": [
    "### Feature table summary"
   ]
  },
  {
   "cell_type": "code",
   "execution_count": 16,
   "id": "192a38b5",
   "metadata": {},
   "outputs": [
    {
     "name": "stdout",
     "output_type": "stream",
     "text": [
      "\u001b[32mSaved Visualization to: table.qzv\u001b[0m\n",
      "\u001b[0m\u001b[32mSaved Visualization to: rep-seqs.qzv\u001b[0m\n",
      "\u001b[0m\u001b[32mSaved Visualization to: denoising-stats.qzv\u001b[0m\n",
      "\u001b[0m"
     ]
    }
   ],
   "source": [
    "!qiime feature-table summarize \\\n",
    "  --i-table table.qza \\\n",
    "  --o-visualization table.qzv \\\n",
    "  --m-sample-metadata-file sample-metadata.tsv\n",
    "\n",
    "!qiime feature-table tabulate-seqs \\\n",
    "  --i-data rep-seqs.qza \\\n",
    "  --o-visualization rep-seqs.qzv\n",
    "\n",
    "!qiime metadata tabulate \\\n",
    "  --m-input-file denoising-stats.qza \\\n",
    "  --o-visualization denoising-stats.qzv"
   ]
  },
  {
   "cell_type": "code",
   "execution_count": 17,
   "id": "fa33abbe",
   "metadata": {},
   "outputs": [
    {
     "data": {
      "text/html": [
       "<div><img onload=\"(function(div, url){\n",
       "if (typeof require !== 'undefined') {\n",
       "    var baseURL = require.toUrl('').split('/').slice(0, -2).join('/');\n",
       "} else {\n",
       "    var baseURL = JSON.parse(\n",
       "        document.getElementById('jupyter-config-data').innerHTML\n",
       "    ).baseUrl.slice(0, -1);\n",
       "}\n",
       "url = baseURL + url;\n",
       "fetch(url).then(function(res) {\n",
       "    if (res.status === 404) {\n",
       "        div.innerHTML = 'Install QIIME 2 Jupyter extension with:<br />' +\n",
       "                        '<code>jupyter serverextension enable --py qiime2' +\n",
       "                        ' --sys-prefix</code><br />then restart your server.' +\n",
       "                        '<br /><br />(Interactive output not available on ' +\n",
       "                        'static notebook viewer services like nbviewer.)';\n",
       "    } else if (res.status === 409) {\n",
       "        div.innerHTML = 'Visualization no longer in scope. Re-run this cell' +\n",
       "                        ' to see the visualization.';\n",
       "    } else if (res.ok) {\n",
       "        url = res.url;\n",
       "        div.innerHTML = '<iframe src=\\'' + url + '\\' style=\\'' +\n",
       "                        'width: 100%; height: 700px; border: 0;\\'>' +\n",
       "                        '</iframe><hr />Open in a: <a href=\\'' + url + '\\'' +\n",
       "                        ' target=\\'_blank\\'>new window</a>'\n",
       "    } else {\n",
       "        div.innerHTML = 'Something has gone wrong. Check notebook server for' +\n",
       "                        ' errors.';\n",
       "    }\n",
       "});\n",
       "})(this.parentElement, '/qiime2/redirect?location=/tmp/qiime2/kingosz/data/b150f189-5faa-4697-a655-4361ad72c8ef')\" src=\"data:image/gif;base64,R0lGODlhAQABAIAAAP///wAAACH5BAEAAAAALAAAAAABAAEAAAICRAEAOw==\" /></div>"
      ],
      "text/plain": [
       "<visualization: Visualization uuid: b150f189-5faa-4697-a655-4361ad72c8ef>"
      ]
     },
     "execution_count": 17,
     "metadata": {},
     "output_type": "execute_result"
    }
   ],
   "source": [
    "Visualization.load('table.qzv')"
   ]
  },
  {
   "cell_type": "markdown",
   "id": "0f56a1c6",
   "metadata": {},
   "source": [
    "### --p-sampling-depth "
   ]
  },
  {
   "cell_type": "code",
   "execution_count": 18,
   "id": "7cc953b1",
   "metadata": {},
   "outputs": [
    {
     "name": "stdout",
     "output_type": "stream",
     "text": [
      "\u001b[32mSaved FeatureData[AlignedSequence] to: aligned-rep-seqs.qza\u001b[0m\n",
      "\u001b[32mSaved FeatureData[AlignedSequence] to: masked-aligned-rep-seqs.qza\u001b[0m\n",
      "\u001b[32mSaved Phylogeny[Unrooted] to: unrooted-tree.qza\u001b[0m\n",
      "\u001b[32mSaved Phylogeny[Rooted] to: rooted-tree.qza\u001b[0m\n",
      "\u001b[0m"
     ]
    }
   ],
   "source": [
    "!qiime phylogeny align-to-tree-mafft-fasttree \\\n",
    "  --i-sequences rep-seqs.qza \\\n",
    "  --o-alignment aligned-rep-seqs.qza \\\n",
    "  --o-masked-alignment masked-aligned-rep-seqs.qza \\\n",
    "  --o-tree unrooted-tree.qza \\\n",
    "  --o-rooted-tree rooted-tree.qza"
   ]
  },
  {
   "cell_type": "markdown",
   "id": "099ca9aa",
   "metadata": {},
   "source": [
    "### Core phylogenetic metrics"
   ]
  },
  {
   "cell_type": "code",
   "execution_count": 20,
   "id": "20f10541",
   "metadata": {},
   "outputs": [
    {
     "name": "stdout",
     "output_type": "stream",
     "text": [
      "\u001b[32mSaved FeatureTable[Frequency] to: core-metrics-results/rarefied_table.qza\u001b[0m\n",
      "\u001b[32mSaved SampleData[AlphaDiversity] to: core-metrics-results/faith_pd_vector.qza\u001b[0m\n",
      "\u001b[32mSaved SampleData[AlphaDiversity] to: core-metrics-results/observed_features_vector.qza\u001b[0m\n",
      "\u001b[32mSaved SampleData[AlphaDiversity] to: core-metrics-results/shannon_vector.qza\u001b[0m\n",
      "\u001b[32mSaved SampleData[AlphaDiversity] to: core-metrics-results/evenness_vector.qza\u001b[0m\n",
      "\u001b[32mSaved DistanceMatrix to: core-metrics-results/unweighted_unifrac_distance_matrix.qza\u001b[0m\n",
      "\u001b[32mSaved DistanceMatrix to: core-metrics-results/weighted_unifrac_distance_matrix.qza\u001b[0m\n",
      "\u001b[32mSaved DistanceMatrix to: core-metrics-results/jaccard_distance_matrix.qza\u001b[0m\n",
      "\u001b[32mSaved DistanceMatrix to: core-metrics-results/bray_curtis_distance_matrix.qza\u001b[0m\n",
      "\u001b[32mSaved PCoAResults to: core-metrics-results/unweighted_unifrac_pcoa_results.qza\u001b[0m\n",
      "\u001b[32mSaved PCoAResults to: core-metrics-results/weighted_unifrac_pcoa_results.qza\u001b[0m\n",
      "\u001b[32mSaved PCoAResults to: core-metrics-results/jaccard_pcoa_results.qza\u001b[0m\n",
      "\u001b[32mSaved PCoAResults to: core-metrics-results/bray_curtis_pcoa_results.qza\u001b[0m\n",
      "\u001b[32mSaved Visualization to: core-metrics-results/unweighted_unifrac_emperor.qzv\u001b[0m\n",
      "\u001b[32mSaved Visualization to: core-metrics-results/weighted_unifrac_emperor.qzv\u001b[0m\n",
      "\u001b[32mSaved Visualization to: core-metrics-results/jaccard_emperor.qzv\u001b[0m\n",
      "\u001b[32mSaved Visualization to: core-metrics-results/bray_curtis_emperor.qzv\u001b[0m\n",
      "\u001b[0m"
     ]
    }
   ],
   "source": [
    "!qiime diversity core-metrics-phylogenetic \\\n",
    "  --i-phylogeny rooted-tree.qza \\\n",
    "  --i-table table.qza \\\n",
    "  --p-sampling-depth 500 \\\n",
    "  --m-metadata-file sample-metadata.tsv \\\n",
    "  --output-dir core-metrics-results"
   ]
  },
  {
   "cell_type": "code",
   "execution_count": 21,
   "id": "20b12e79",
   "metadata": {},
   "outputs": [
    {
     "data": {
      "text/html": [
       "<div><img onload=\"(function(div, url){\n",
       "if (typeof require !== 'undefined') {\n",
       "    var baseURL = require.toUrl('').split('/').slice(0, -2).join('/');\n",
       "} else {\n",
       "    var baseURL = JSON.parse(\n",
       "        document.getElementById('jupyter-config-data').innerHTML\n",
       "    ).baseUrl.slice(0, -1);\n",
       "}\n",
       "url = baseURL + url;\n",
       "fetch(url).then(function(res) {\n",
       "    if (res.status === 404) {\n",
       "        div.innerHTML = 'Install QIIME 2 Jupyter extension with:<br />' +\n",
       "                        '<code>jupyter serverextension enable --py qiime2' +\n",
       "                        ' --sys-prefix</code><br />then restart your server.' +\n",
       "                        '<br /><br />(Interactive output not available on ' +\n",
       "                        'static notebook viewer services like nbviewer.)';\n",
       "    } else if (res.status === 409) {\n",
       "        div.innerHTML = 'Visualization no longer in scope. Re-run this cell' +\n",
       "                        ' to see the visualization.';\n",
       "    } else if (res.ok) {\n",
       "        url = res.url;\n",
       "        div.innerHTML = '<iframe src=\\'' + url + '\\' style=\\'' +\n",
       "                        'width: 100%; height: 700px; border: 0;\\'>' +\n",
       "                        '</iframe><hr />Open in a: <a href=\\'' + url + '\\'' +\n",
       "                        ' target=\\'_blank\\'>new window</a>'\n",
       "    } else {\n",
       "        div.innerHTML = 'Something has gone wrong. Check notebook server for' +\n",
       "                        ' errors.';\n",
       "    }\n",
       "});\n",
       "})(this.parentElement, '/qiime2/redirect?location=/tmp/qiime2/kingosz/data/a4c5dbc0-1ebc-4420-96e6-178d837591be')\" src=\"data:image/gif;base64,R0lGODlhAQABAIAAAP///wAAACH5BAEAAAAALAAAAAABAAEAAAICRAEAOw==\" /></div>"
      ],
      "text/plain": [
       "<visualization: Visualization uuid: a4c5dbc0-1ebc-4420-96e6-178d837591be>"
      ]
     },
     "execution_count": 21,
     "metadata": {},
     "output_type": "execute_result"
    }
   ],
   "source": [
    "Visualization.load('core-metrics-results/bray_curtis_emperor.qzv')"
   ]
  },
  {
   "cell_type": "markdown",
   "id": "9d8eee34",
   "metadata": {},
   "source": [
    "Sampling depth of 440 will result in 49 samples analysed, excluded 5.\n",
    "There will be 63,897 total frequences. "
   ]
  },
  {
   "cell_type": "markdown",
   "id": "e0be71e9",
   "metadata": {},
   "source": [
    "### Rarefaction "
   ]
  },
  {
   "cell_type": "code",
   "execution_count": 22,
   "id": "4eb8715f",
   "metadata": {},
   "outputs": [
    {
     "name": "stdout",
     "output_type": "stream",
     "text": [
      "\u001b[32mSaved Visualization to: alpha-rarefaction_500.qzv\u001b[0m\n",
      "\u001b[0m"
     ]
    }
   ],
   "source": [
    "!qiime diversity alpha-rarefaction \\\n",
    "  --i-table table.qza \\\n",
    "  --i-phylogeny rooted-tree.qza \\\n",
    "  --p-max-depth 50 \\\n",
    "  --m-metadata-file sample-metadata.tsv \\\n",
    "  --o-visualization alpha-rarefaction_500.qzv"
   ]
  },
  {
   "cell_type": "markdown",
   "id": "005bc862",
   "metadata": {},
   "source": [
    "### Taxonomic classification"
   ]
  },
  {
   "cell_type": "code",
   "execution_count": null,
   "id": "7cc15adf",
   "metadata": {},
   "outputs": [],
   "source": [
    "!wget \\\n",
    "  -O \"gg-13-8-99-515-806-nb-classifier.qza\" \\\n",
    "  \"https://data.qiime2.org/2023.5/common/gg-13-8-99-515-806-nb-classifier.qza\""
   ]
  },
  {
   "cell_type": "code",
   "execution_count": 23,
   "id": "d1855f27",
   "metadata": {},
   "outputs": [
    {
     "name": "stdout",
     "output_type": "stream",
     "text": [
      "\u001b[32mSaved FeatureData[Taxonomy] to: taxonomy.qza\u001b[0m\n",
      "\u001b[0m\u001b[32mSaved Visualization to: taxonomy.qzv\u001b[0m\n",
      "\u001b[0m"
     ]
    }
   ],
   "source": [
    "!qiime feature-classifier classify-sklearn \\\n",
    "  --i-classifier gg-13-8-99-515-806-nb-classifier.qza \\\n",
    "  --i-reads rep-seqs.qza \\\n",
    "  --o-classification taxonomy.qza\n",
    "\n",
    "!qiime metadata tabulate \\\n",
    "  --m-input-file taxonomy.qza \\\n",
    "  --o-visualization taxonomy.qzv"
   ]
  },
  {
   "cell_type": "code",
   "execution_count": 24,
   "id": "281b5977",
   "metadata": {},
   "outputs": [
    {
     "data": {
      "text/html": [
       "<div><img onload=\"(function(div, url){\n",
       "if (typeof require !== 'undefined') {\n",
       "    var baseURL = require.toUrl('').split('/').slice(0, -2).join('/');\n",
       "} else {\n",
       "    var baseURL = JSON.parse(\n",
       "        document.getElementById('jupyter-config-data').innerHTML\n",
       "    ).baseUrl.slice(0, -1);\n",
       "}\n",
       "url = baseURL + url;\n",
       "fetch(url).then(function(res) {\n",
       "    if (res.status === 404) {\n",
       "        div.innerHTML = 'Install QIIME 2 Jupyter extension with:<br />' +\n",
       "                        '<code>jupyter serverextension enable --py qiime2' +\n",
       "                        ' --sys-prefix</code><br />then restart your server.' +\n",
       "                        '<br /><br />(Interactive output not available on ' +\n",
       "                        'static notebook viewer services like nbviewer.)';\n",
       "    } else if (res.status === 409) {\n",
       "        div.innerHTML = 'Visualization no longer in scope. Re-run this cell' +\n",
       "                        ' to see the visualization.';\n",
       "    } else if (res.ok) {\n",
       "        url = res.url;\n",
       "        div.innerHTML = '<iframe src=\\'' + url + '\\' style=\\'' +\n",
       "                        'width: 100%; height: 700px; border: 0;\\'>' +\n",
       "                        '</iframe><hr />Open in a: <a href=\\'' + url + '\\'' +\n",
       "                        ' target=\\'_blank\\'>new window</a>'\n",
       "    } else {\n",
       "        div.innerHTML = 'Something has gone wrong. Check notebook server for' +\n",
       "                        ' errors.';\n",
       "    }\n",
       "});\n",
       "})(this.parentElement, '/qiime2/redirect?location=/tmp/qiime2/kingosz/data/22e99e25-360c-4e90-a793-28d714c5ac85')\" src=\"data:image/gif;base64,R0lGODlhAQABAIAAAP///wAAACH5BAEAAAAALAAAAAABAAEAAAICRAEAOw==\" /></div>"
      ],
      "text/plain": [
       "<visualization: Visualization uuid: 22e99e25-360c-4e90-a793-28d714c5ac85>"
      ]
     },
     "execution_count": 24,
     "metadata": {},
     "output_type": "execute_result"
    }
   ],
   "source": [
    "Visualization.load('taxonomy.qzv')"
   ]
  },
  {
   "cell_type": "code",
   "execution_count": 25,
   "id": "9e8d07a0",
   "metadata": {},
   "outputs": [
    {
     "name": "stdout",
     "output_type": "stream",
     "text": [
      "\u001b[32mSaved Visualization to: taxa-bar-plots-1.qzv\u001b[0m\n",
      "\u001b[0m"
     ]
    }
   ],
   "source": [
    "!qiime taxa barplot \\\n",
    "  --i-table table.qza \\\n",
    "  --i-taxonomy taxonomy.qza \\\n",
    "  --m-metadata-file sample-metadata.tsv \\\n",
    "  --o-visualization taxa-bar-plots-1.qzv"
   ]
  },
  {
   "cell_type": "code",
   "execution_count": 26,
   "id": "0d9644e8",
   "metadata": {
    "scrolled": false
   },
   "outputs": [
    {
     "data": {
      "text/html": [
       "<div><img onload=\"(function(div, url){\n",
       "if (typeof require !== 'undefined') {\n",
       "    var baseURL = require.toUrl('').split('/').slice(0, -2).join('/');\n",
       "} else {\n",
       "    var baseURL = JSON.parse(\n",
       "        document.getElementById('jupyter-config-data').innerHTML\n",
       "    ).baseUrl.slice(0, -1);\n",
       "}\n",
       "url = baseURL + url;\n",
       "fetch(url).then(function(res) {\n",
       "    if (res.status === 404) {\n",
       "        div.innerHTML = 'Install QIIME 2 Jupyter extension with:<br />' +\n",
       "                        '<code>jupyter serverextension enable --py qiime2' +\n",
       "                        ' --sys-prefix</code><br />then restart your server.' +\n",
       "                        '<br /><br />(Interactive output not available on ' +\n",
       "                        'static notebook viewer services like nbviewer.)';\n",
       "    } else if (res.status === 409) {\n",
       "        div.innerHTML = 'Visualization no longer in scope. Re-run this cell' +\n",
       "                        ' to see the visualization.';\n",
       "    } else if (res.ok) {\n",
       "        url = res.url;\n",
       "        div.innerHTML = '<iframe src=\\'' + url + '\\' style=\\'' +\n",
       "                        'width: 100%; height: 700px; border: 0;\\'>' +\n",
       "                        '</iframe><hr />Open in a: <a href=\\'' + url + '\\'' +\n",
       "                        ' target=\\'_blank\\'>new window</a>'\n",
       "    } else {\n",
       "        div.innerHTML = 'Something has gone wrong. Check notebook server for' +\n",
       "                        ' errors.';\n",
       "    }\n",
       "});\n",
       "})(this.parentElement, '/qiime2/redirect?location=/tmp/qiime2/kingosz/data/30de1055-8e7c-4fcf-8acd-3c39733645f6')\" src=\"data:image/gif;base64,R0lGODlhAQABAIAAAP///wAAACH5BAEAAAAALAAAAAABAAEAAAICRAEAOw==\" /></div>"
      ],
      "text/plain": [
       "<visualization: Visualization uuid: 30de1055-8e7c-4fcf-8acd-3c39733645f6>"
      ]
     },
     "execution_count": 26,
     "metadata": {},
     "output_type": "execute_result"
    }
   ],
   "source": [
    "Visualization.load('taxa-bar-plots-1.qzv')"
   ]
  },
  {
   "cell_type": "markdown",
   "id": "2b4ce268",
   "metadata": {},
   "source": [
    "When samples are sorted based on their average soil relative humidity, the most abundant phyla are Actinobateria and Proteobacteria. However, Actinobacteria decrease as the reative soil humidity increases. "
   ]
  },
  {
   "cell_type": "markdown",
   "id": "089deee8",
   "metadata": {},
   "source": [
    "# Beta diversity analysis"
   ]
  },
  {
   "cell_type": "markdown",
   "id": "8bd306b9",
   "metadata": {},
   "source": [
    "Using diversty beta-group-significance tool only categorical data can be provided. I have choosen 'vegetation' and 'transect-name' to check if there is any association in microbial composition of the samples. \n"
   ]
  },
  {
   "cell_type": "code",
   "execution_count": 27,
   "id": "18e9fc6e",
   "metadata": {},
   "outputs": [
    {
     "name": "stdout",
     "output_type": "stream",
     "text": [
      "\u001b[32mSaved Visualization to: core-metrics-results/unweighted-unifrac-vegetation-significance.qzv\u001b[0m\n",
      "\u001b[0m\u001b[32mSaved Visualization to: core-metrics-results/unweighted-unifrac-transect-name-significance.qzv\u001b[0m\n",
      "\u001b[0m"
     ]
    }
   ],
   "source": [
    "!qiime diversity beta-group-significance \\\n",
    "  --i-distance-matrix core-metrics-results/unweighted_unifrac_distance_matrix.qza \\\n",
    "  --m-metadata-file sample-metadata.tsv \\\n",
    "  --m-metadata-column vegetation \\\n",
    "  --o-visualization core-metrics-results/unweighted-unifrac-vegetation-significance.qzv \\\n",
    "  --p-pairwise\n",
    "\n",
    "!qiime diversity beta-group-significance \\\n",
    "  --i-distance-matrix core-metrics-results/unweighted_unifrac_distance_matrix.qza \\\n",
    "  --m-metadata-file sample-metadata.tsv \\\n",
    "  --m-metadata-column transect-name \\\n",
    "  --o-visualization core-metrics-results/unweighted-unifrac-transect-name-significance.qzv \\\n",
    "  --p-pairwise"
   ]
  },
  {
   "cell_type": "code",
   "execution_count": 28,
   "id": "0df760c2",
   "metadata": {},
   "outputs": [
    {
     "data": {
      "text/html": [
       "<div><img onload=\"(function(div, url){\n",
       "if (typeof require !== 'undefined') {\n",
       "    var baseURL = require.toUrl('').split('/').slice(0, -2).join('/');\n",
       "} else {\n",
       "    var baseURL = JSON.parse(\n",
       "        document.getElementById('jupyter-config-data').innerHTML\n",
       "    ).baseUrl.slice(0, -1);\n",
       "}\n",
       "url = baseURL + url;\n",
       "fetch(url).then(function(res) {\n",
       "    if (res.status === 404) {\n",
       "        div.innerHTML = 'Install QIIME 2 Jupyter extension with:<br />' +\n",
       "                        '<code>jupyter serverextension enable --py qiime2' +\n",
       "                        ' --sys-prefix</code><br />then restart your server.' +\n",
       "                        '<br /><br />(Interactive output not available on ' +\n",
       "                        'static notebook viewer services like nbviewer.)';\n",
       "    } else if (res.status === 409) {\n",
       "        div.innerHTML = 'Visualization no longer in scope. Re-run this cell' +\n",
       "                        ' to see the visualization.';\n",
       "    } else if (res.ok) {\n",
       "        url = res.url;\n",
       "        div.innerHTML = '<iframe src=\\'' + url + '\\' style=\\'' +\n",
       "                        'width: 100%; height: 700px; border: 0;\\'>' +\n",
       "                        '</iframe><hr />Open in a: <a href=\\'' + url + '\\'' +\n",
       "                        ' target=\\'_blank\\'>new window</a>'\n",
       "    } else {\n",
       "        div.innerHTML = 'Something has gone wrong. Check notebook server for' +\n",
       "                        ' errors.';\n",
       "    }\n",
       "});\n",
       "})(this.parentElement, '/qiime2/redirect?location=/tmp/qiime2/kingosz/data/fc1d89d2-2542-47d4-b056-872403d5808d')\" src=\"data:image/gif;base64,R0lGODlhAQABAIAAAP///wAAACH5BAEAAAAALAAAAAABAAEAAAICRAEAOw==\" /></div>"
      ],
      "text/plain": [
       "<visualization: Visualization uuid: fc1d89d2-2542-47d4-b056-872403d5808d>"
      ]
     },
     "execution_count": 28,
     "metadata": {},
     "output_type": "execute_result"
    }
   ],
   "source": [
    "Visualization.load('core-metrics-results/unweighted-unifrac-vegetation-significance.qzv')"
   ]
  },
  {
   "cell_type": "code",
   "execution_count": 29,
   "id": "438d40f0",
   "metadata": {},
   "outputs": [
    {
     "data": {
      "text/html": [
       "<div><img onload=\"(function(div, url){\n",
       "if (typeof require !== 'undefined') {\n",
       "    var baseURL = require.toUrl('').split('/').slice(0, -2).join('/');\n",
       "} else {\n",
       "    var baseURL = JSON.parse(\n",
       "        document.getElementById('jupyter-config-data').innerHTML\n",
       "    ).baseUrl.slice(0, -1);\n",
       "}\n",
       "url = baseURL + url;\n",
       "fetch(url).then(function(res) {\n",
       "    if (res.status === 404) {\n",
       "        div.innerHTML = 'Install QIIME 2 Jupyter extension with:<br />' +\n",
       "                        '<code>jupyter serverextension enable --py qiime2' +\n",
       "                        ' --sys-prefix</code><br />then restart your server.' +\n",
       "                        '<br /><br />(Interactive output not available on ' +\n",
       "                        'static notebook viewer services like nbviewer.)';\n",
       "    } else if (res.status === 409) {\n",
       "        div.innerHTML = 'Visualization no longer in scope. Re-run this cell' +\n",
       "                        ' to see the visualization.';\n",
       "    } else if (res.ok) {\n",
       "        url = res.url;\n",
       "        div.innerHTML = '<iframe src=\\'' + url + '\\' style=\\'' +\n",
       "                        'width: 100%; height: 700px; border: 0;\\'>' +\n",
       "                        '</iframe><hr />Open in a: <a href=\\'' + url + '\\'' +\n",
       "                        ' target=\\'_blank\\'>new window</a>'\n",
       "    } else {\n",
       "        div.innerHTML = 'Something has gone wrong. Check notebook server for' +\n",
       "                        ' errors.';\n",
       "    }\n",
       "});\n",
       "})(this.parentElement, '/qiime2/redirect?location=/tmp/qiime2/kingosz/data/d6b7abbc-a3d1-442a-8081-24702d48ab22')\" src=\"data:image/gif;base64,R0lGODlhAQABAIAAAP///wAAACH5BAEAAAAALAAAAAABAAEAAAICRAEAOw==\" /></div>"
      ],
      "text/plain": [
       "<visualization: Visualization uuid: d6b7abbc-a3d1-442a-8081-24702d48ab22>"
      ]
     },
     "execution_count": 29,
     "metadata": {},
     "output_type": "execute_result"
    }
   ],
   "source": [
    "Visualization.load('core-metrics-results/unweighted-unifrac-transect-name-significance.qzv')"
   ]
  },
  {
   "cell_type": "code",
   "execution_count": 30,
   "id": "44607f00",
   "metadata": {},
   "outputs": [
    {
     "name": "stdout",
     "output_type": "stream",
     "text": [
      "\u001b[32mSaved Visualization to: core-metrics-results/bray_curtis-vegetation-significance.qzv\u001b[0m\n",
      "\u001b[0m\u001b[32mSaved Visualization to: core-metrics-results/bray_curtis-transect-name-significance.qzv\u001b[0m\n",
      "\u001b[0m"
     ]
    }
   ],
   "source": [
    "!qiime diversity beta-group-significance \\\n",
    "  --i-distance-matrix core-metrics-results/bray_curtis_distance_matrix.qza \\\n",
    "  --m-metadata-file sample-metadata.tsv \\\n",
    "  --m-metadata-column vegetation \\\n",
    "  --o-visualization core-metrics-results/bray_curtis-vegetation-significance.qzv \\\n",
    "  --p-pairwise\n",
    "\n",
    "!qiime diversity beta-group-significance \\\n",
    "  --i-distance-matrix core-metrics-results/bray_curtis_distance_matrix.qza \\\n",
    "  --m-metadata-file sample-metadata.tsv \\\n",
    "  --m-metadata-column transect-name \\\n",
    "  --o-visualization core-metrics-results/bray_curtis-transect-name-significance.qzv \\\n",
    "  --p-pairwise"
   ]
  },
  {
   "cell_type": "code",
   "execution_count": 31,
   "id": "1899fcf1",
   "metadata": {},
   "outputs": [
    {
     "data": {
      "text/html": [
       "<div><img onload=\"(function(div, url){\n",
       "if (typeof require !== 'undefined') {\n",
       "    var baseURL = require.toUrl('').split('/').slice(0, -2).join('/');\n",
       "} else {\n",
       "    var baseURL = JSON.parse(\n",
       "        document.getElementById('jupyter-config-data').innerHTML\n",
       "    ).baseUrl.slice(0, -1);\n",
       "}\n",
       "url = baseURL + url;\n",
       "fetch(url).then(function(res) {\n",
       "    if (res.status === 404) {\n",
       "        div.innerHTML = 'Install QIIME 2 Jupyter extension with:<br />' +\n",
       "                        '<code>jupyter serverextension enable --py qiime2' +\n",
       "                        ' --sys-prefix</code><br />then restart your server.' +\n",
       "                        '<br /><br />(Interactive output not available on ' +\n",
       "                        'static notebook viewer services like nbviewer.)';\n",
       "    } else if (res.status === 409) {\n",
       "        div.innerHTML = 'Visualization no longer in scope. Re-run this cell' +\n",
       "                        ' to see the visualization.';\n",
       "    } else if (res.ok) {\n",
       "        url = res.url;\n",
       "        div.innerHTML = '<iframe src=\\'' + url + '\\' style=\\'' +\n",
       "                        'width: 100%; height: 700px; border: 0;\\'>' +\n",
       "                        '</iframe><hr />Open in a: <a href=\\'' + url + '\\'' +\n",
       "                        ' target=\\'_blank\\'>new window</a>'\n",
       "    } else {\n",
       "        div.innerHTML = 'Something has gone wrong. Check notebook server for' +\n",
       "                        ' errors.';\n",
       "    }\n",
       "});\n",
       "})(this.parentElement, '/qiime2/redirect?location=/tmp/qiime2/kingosz/data/a8991896-7027-4fc6-a92f-0ebbe8818343')\" src=\"data:image/gif;base64,R0lGODlhAQABAIAAAP///wAAACH5BAEAAAAALAAAAAABAAEAAAICRAEAOw==\" /></div>"
      ],
      "text/plain": [
       "<visualization: Visualization uuid: a8991896-7027-4fc6-a92f-0ebbe8818343>"
      ]
     },
     "execution_count": 31,
     "metadata": {},
     "output_type": "execute_result"
    }
   ],
   "source": [
    "Visualization.load('core-metrics-results/bray_curtis-vegetation-significance.qzv')"
   ]
  },
  {
   "cell_type": "code",
   "execution_count": 32,
   "id": "7e86a7ce",
   "metadata": {},
   "outputs": [
    {
     "data": {
      "text/html": [
       "<div><img onload=\"(function(div, url){\n",
       "if (typeof require !== 'undefined') {\n",
       "    var baseURL = require.toUrl('').split('/').slice(0, -2).join('/');\n",
       "} else {\n",
       "    var baseURL = JSON.parse(\n",
       "        document.getElementById('jupyter-config-data').innerHTML\n",
       "    ).baseUrl.slice(0, -1);\n",
       "}\n",
       "url = baseURL + url;\n",
       "fetch(url).then(function(res) {\n",
       "    if (res.status === 404) {\n",
       "        div.innerHTML = 'Install QIIME 2 Jupyter extension with:<br />' +\n",
       "                        '<code>jupyter serverextension enable --py qiime2' +\n",
       "                        ' --sys-prefix</code><br />then restart your server.' +\n",
       "                        '<br /><br />(Interactive output not available on ' +\n",
       "                        'static notebook viewer services like nbviewer.)';\n",
       "    } else if (res.status === 409) {\n",
       "        div.innerHTML = 'Visualization no longer in scope. Re-run this cell' +\n",
       "                        ' to see the visualization.';\n",
       "    } else if (res.ok) {\n",
       "        url = res.url;\n",
       "        div.innerHTML = '<iframe src=\\'' + url + '\\' style=\\'' +\n",
       "                        'width: 100%; height: 700px; border: 0;\\'>' +\n",
       "                        '</iframe><hr />Open in a: <a href=\\'' + url + '\\'' +\n",
       "                        ' target=\\'_blank\\'>new window</a>'\n",
       "    } else {\n",
       "        div.innerHTML = 'Something has gone wrong. Check notebook server for' +\n",
       "                        ' errors.';\n",
       "    }\n",
       "});\n",
       "})(this.parentElement, '/qiime2/redirect?location=/tmp/qiime2/kingosz/data/7c1cb724-6240-4745-81c3-898acd435927')\" src=\"data:image/gif;base64,R0lGODlhAQABAIAAAP///wAAACH5BAEAAAAALAAAAAABAAEAAAICRAEAOw==\" /></div>"
      ],
      "text/plain": [
       "<visualization: Visualization uuid: 7c1cb724-6240-4745-81c3-898acd435927>"
      ]
     },
     "execution_count": 32,
     "metadata": {},
     "output_type": "execute_result"
    }
   ],
   "source": [
    "Visualization.load('core-metrics-results/bray_curtis-transect-name-significance.qzv')"
   ]
  },
  {
   "cell_type": "markdown",
   "id": "36ab21e7",
   "metadata": {},
   "source": [
    "A beta diversity analysis using unweighted UniFrac-based principal-coordinate  was used to compare the composition of the Atacama Desert microbial communities isolated from two places: Yungay and Baquedano Transects. Permanova test shows that the microbial composition differnces are significant. The same result were obtained with Bray-Curtis principal-coordinate analysis. \n",
    "Significant differences in microbial composition of samples isolated form places with or without vegetation have been obsereved."
   ]
  },
  {
   "cell_type": "markdown",
   "id": "75c8e039",
   "metadata": {},
   "source": [
    "### Mantel test "
   ]
  },
  {
   "cell_type": "markdown",
   "id": "6287128b",
   "metadata": {},
   "source": [
    "\n",
    "The Mantel test compares two distance matrices by computing the correlation between the distances in the lower (or upper) triangular portions of the symmetric distance matrices. In this case Spearman’s rank correlation coefficient\n"
   ]
  },
  {
   "cell_type": "markdown",
   "id": "53006483",
   "metadata": {},
   "source": [
    "Three samples were identified in the metadata that required filtering out. These samples lacked values for the average soil relative humidity variable."
   ]
  },
  {
   "cell_type": "markdown",
   "id": "64b627b2",
   "metadata": {},
   "source": [
    "### Corelation between microbial comunity and elevation"
   ]
  },
  {
   "cell_type": "code",
   "execution_count": 33,
   "id": "1328133e",
   "metadata": {},
   "outputs": [
    {
     "name": "stdout",
     "output_type": "stream",
     "text": [
      "\u001b[32mSaved DistanceMatrix to: core-metrics-results/elevation-distance-matrix.qza\u001b[0m\r\n",
      "\u001b[0m"
     ]
    }
   ],
   "source": [
    "!qiime metadata distance-matrix \\\n",
    "--m-metadata-file sample-metadata.tsv \\\n",
    "--m-metadata-column elevation \\\n",
    "--o-distance-matrix core-metrics-results/elevation-distance-matrix.qza"
   ]
  },
  {
   "cell_type": "code",
   "execution_count": 34,
   "id": "d106eaf3",
   "metadata": {},
   "outputs": [
    {
     "name": "stdout",
     "output_type": "stream",
     "text": [
      "\u001b[32mSaved Visualization to: core-metrics-results/diversity-mantel-elevation-unifrac-uu.qzv\u001b[0m\n",
      "\u001b[0m"
     ]
    }
   ],
   "source": [
    "!qiime diversity mantel \\\n",
    "    --i-dm1 core-metrics-results/elevation-distance-matrix.qza \\\n",
    "    --i-dm2 core-metrics-results/unweighted_unifrac_distance_matrix.qza \\\n",
    "    --p-intersect-ids \\\n",
    "    --p-label1 'Elevation' \\\n",
    "    --p-label2 'UniFrac distance matrix' \\\n",
    "    --o-visualization core-metrics-results/diversity-mantel-elevation-unifrac-uu.qzv"
   ]
  },
  {
   "cell_type": "code",
   "execution_count": 35,
   "id": "b240451b",
   "metadata": {},
   "outputs": [
    {
     "data": {
      "text/html": [
       "<div><img onload=\"(function(div, url){\n",
       "if (typeof require !== 'undefined') {\n",
       "    var baseURL = require.toUrl('').split('/').slice(0, -2).join('/');\n",
       "} else {\n",
       "    var baseURL = JSON.parse(\n",
       "        document.getElementById('jupyter-config-data').innerHTML\n",
       "    ).baseUrl.slice(0, -1);\n",
       "}\n",
       "url = baseURL + url;\n",
       "fetch(url).then(function(res) {\n",
       "    if (res.status === 404) {\n",
       "        div.innerHTML = 'Install QIIME 2 Jupyter extension with:<br />' +\n",
       "                        '<code>jupyter serverextension enable --py qiime2' +\n",
       "                        ' --sys-prefix</code><br />then restart your server.' +\n",
       "                        '<br /><br />(Interactive output not available on ' +\n",
       "                        'static notebook viewer services like nbviewer.)';\n",
       "    } else if (res.status === 409) {\n",
       "        div.innerHTML = 'Visualization no longer in scope. Re-run this cell' +\n",
       "                        ' to see the visualization.';\n",
       "    } else if (res.ok) {\n",
       "        url = res.url;\n",
       "        div.innerHTML = '<iframe src=\\'' + url + '\\' style=\\'' +\n",
       "                        'width: 100%; height: 700px; border: 0;\\'>' +\n",
       "                        '</iframe><hr />Open in a: <a href=\\'' + url + '\\'' +\n",
       "                        ' target=\\'_blank\\'>new window</a>'\n",
       "    } else {\n",
       "        div.innerHTML = 'Something has gone wrong. Check notebook server for' +\n",
       "                        ' errors.';\n",
       "    }\n",
       "});\n",
       "})(this.parentElement, '/qiime2/redirect?location=/tmp/qiime2/kingosz/data/34047186-1f85-4f37-94e7-45fd88b534ed')\" src=\"data:image/gif;base64,R0lGODlhAQABAIAAAP///wAAACH5BAEAAAAALAAAAAABAAEAAAICRAEAOw==\" /></div>"
      ],
      "text/plain": [
       "<visualization: Visualization uuid: 34047186-1f85-4f37-94e7-45fd88b534ed>"
      ]
     },
     "execution_count": 35,
     "metadata": {},
     "output_type": "execute_result"
    }
   ],
   "source": [
    "Visualization.load('core-metrics-results/diversity-mantel-elevation-unifrac-uu.qzv')"
   ]
  },
  {
   "cell_type": "code",
   "execution_count": 36,
   "id": "4edac806",
   "metadata": {},
   "outputs": [
    {
     "name": "stdout",
     "output_type": "stream",
     "text": [
      "\u001b[32mSaved Visualization to: core-metrics-results/diversity-mantel-elevation-unifrac-wu.qzv\u001b[0m\n",
      "\u001b[0m"
     ]
    }
   ],
   "source": [
    "!qiime diversity mantel \\\n",
    "    --i-dm1 core-metrics-results/elevation-distance-matrix.qza \\\n",
    "    --i-dm2 core-metrics-results/weighted_unifrac_distance_matrix.qza \\\n",
    "    --p-intersect-ids \\\n",
    "    --p-label1 'Elevation' \\\n",
    "    --p-label2 'UniFrac distance matrix' \\\n",
    "    --o-visualization core-metrics-results/diversity-mantel-elevation-unifrac-wu.qzv"
   ]
  },
  {
   "cell_type": "code",
   "execution_count": 37,
   "id": "3aea2ee4",
   "metadata": {},
   "outputs": [
    {
     "data": {
      "text/html": [
       "<div><img onload=\"(function(div, url){\n",
       "if (typeof require !== 'undefined') {\n",
       "    var baseURL = require.toUrl('').split('/').slice(0, -2).join('/');\n",
       "} else {\n",
       "    var baseURL = JSON.parse(\n",
       "        document.getElementById('jupyter-config-data').innerHTML\n",
       "    ).baseUrl.slice(0, -1);\n",
       "}\n",
       "url = baseURL + url;\n",
       "fetch(url).then(function(res) {\n",
       "    if (res.status === 404) {\n",
       "        div.innerHTML = 'Install QIIME 2 Jupyter extension with:<br />' +\n",
       "                        '<code>jupyter serverextension enable --py qiime2' +\n",
       "                        ' --sys-prefix</code><br />then restart your server.' +\n",
       "                        '<br /><br />(Interactive output not available on ' +\n",
       "                        'static notebook viewer services like nbviewer.)';\n",
       "    } else if (res.status === 409) {\n",
       "        div.innerHTML = 'Visualization no longer in scope. Re-run this cell' +\n",
       "                        ' to see the visualization.';\n",
       "    } else if (res.ok) {\n",
       "        url = res.url;\n",
       "        div.innerHTML = '<iframe src=\\'' + url + '\\' style=\\'' +\n",
       "                        'width: 100%; height: 700px; border: 0;\\'>' +\n",
       "                        '</iframe><hr />Open in a: <a href=\\'' + url + '\\'' +\n",
       "                        ' target=\\'_blank\\'>new window</a>'\n",
       "    } else {\n",
       "        div.innerHTML = 'Something has gone wrong. Check notebook server for' +\n",
       "                        ' errors.';\n",
       "    }\n",
       "});\n",
       "})(this.parentElement, '/qiime2/redirect?location=/tmp/qiime2/kingosz/data/4e52c228-e95c-4880-bf00-573e7a3ea27b')\" src=\"data:image/gif;base64,R0lGODlhAQABAIAAAP///wAAACH5BAEAAAAALAAAAAABAAEAAAICRAEAOw==\" /></div>"
      ],
      "text/plain": [
       "<visualization: Visualization uuid: 4e52c228-e95c-4880-bf00-573e7a3ea27b>"
      ]
     },
     "execution_count": 37,
     "metadata": {},
     "output_type": "execute_result"
    }
   ],
   "source": [
    "Visualization.load('core-metrics-results/diversity-mantel-elevation-unifrac-wu.qzv')"
   ]
  },
  {
   "cell_type": "markdown",
   "id": "20245a01",
   "metadata": {},
   "source": [
    "A study was conducted to compare UniFrac distance matrices with environmental variables, including elevation and humidity. The focus initially was on exploring the correlation between sample elevation and the qualitative and quantitative phylogenetic community composition.\n",
    "\n",
    "Upon comparing elevation with the UniFrac distance matrices, it was observed that there was a correlation with the qualitative and quantitative phylogenetic community composition. The unweighted UniFrac Mantel's r-value was 0.525, and the weighted UniFrac Mantel's r-value was 0.463. However, it should be noted that the correlation is not particularly strong."
   ]
  },
  {
   "cell_type": "markdown",
   "id": "d90567af",
   "metadata": {},
   "source": [
    "### Corelation between microbial comunity and average soil relative humidity"
   ]
  },
  {
   "cell_type": "markdown",
   "id": "090fb77f",
   "metadata": {},
   "source": [
    "Three samples were identified in the metadata that required filtering out. These samples lacked values for the average soil relative humidity variable."
   ]
  },
  {
   "cell_type": "code",
   "execution_count": 39,
   "id": "3f9865eb",
   "metadata": {},
   "outputs": [
    {
     "data": {
      "text/html": [
       "<div>\n",
       "<style scoped>\n",
       "    .dataframe tbody tr th:only-of-type {\n",
       "        vertical-align: middle;\n",
       "    }\n",
       "\n",
       "    .dataframe tbody tr th {\n",
       "        vertical-align: top;\n",
       "    }\n",
       "\n",
       "    .dataframe thead th {\n",
       "        text-align: right;\n",
       "    }\n",
       "</style>\n",
       "<table border=\"1\" class=\"dataframe\">\n",
       "  <thead>\n",
       "    <tr style=\"text-align: right;\">\n",
       "      <th></th>\n",
       "      <th>sample-id</th>\n",
       "      <th>barcode-sequence</th>\n",
       "      <th>elevation</th>\n",
       "      <th>extract-concen</th>\n",
       "      <th>amplicon-concentration</th>\n",
       "      <th>extract-group-no</th>\n",
       "      <th>transect-name</th>\n",
       "      <th>site-name</th>\n",
       "      <th>depth</th>\n",
       "      <th>ph</th>\n",
       "      <th>...</th>\n",
       "      <th>ec</th>\n",
       "      <th>average-soil-relative-humidity</th>\n",
       "      <th>relative-humidity-soil-high</th>\n",
       "      <th>relative-humidity-soil-low</th>\n",
       "      <th>percent-relative-humidity-soil-100</th>\n",
       "      <th>average-soil-temperature</th>\n",
       "      <th>temperature-soil-high</th>\n",
       "      <th>temperature-soil-low</th>\n",
       "      <th>vegetation</th>\n",
       "      <th>percentcover</th>\n",
       "    </tr>\n",
       "  </thead>\n",
       "  <tbody>\n",
       "    <tr>\n",
       "      <th>0</th>\n",
       "      <td>False</td>\n",
       "      <td>False</td>\n",
       "      <td>False</td>\n",
       "      <td>False</td>\n",
       "      <td>False</td>\n",
       "      <td>False</td>\n",
       "      <td>False</td>\n",
       "      <td>False</td>\n",
       "      <td>False</td>\n",
       "      <td>False</td>\n",
       "      <td>...</td>\n",
       "      <td>False</td>\n",
       "      <td>False</td>\n",
       "      <td>False</td>\n",
       "      <td>False</td>\n",
       "      <td>False</td>\n",
       "      <td>False</td>\n",
       "      <td>False</td>\n",
       "      <td>False</td>\n",
       "      <td>False</td>\n",
       "      <td>False</td>\n",
       "    </tr>\n",
       "    <tr>\n",
       "      <th>1</th>\n",
       "      <td>False</td>\n",
       "      <td>False</td>\n",
       "      <td>False</td>\n",
       "      <td>False</td>\n",
       "      <td>False</td>\n",
       "      <td>False</td>\n",
       "      <td>False</td>\n",
       "      <td>False</td>\n",
       "      <td>False</td>\n",
       "      <td>False</td>\n",
       "      <td>...</td>\n",
       "      <td>False</td>\n",
       "      <td>False</td>\n",
       "      <td>False</td>\n",
       "      <td>False</td>\n",
       "      <td>False</td>\n",
       "      <td>False</td>\n",
       "      <td>False</td>\n",
       "      <td>False</td>\n",
       "      <td>False</td>\n",
       "      <td>False</td>\n",
       "    </tr>\n",
       "    <tr>\n",
       "      <th>2</th>\n",
       "      <td>False</td>\n",
       "      <td>False</td>\n",
       "      <td>False</td>\n",
       "      <td>False</td>\n",
       "      <td>False</td>\n",
       "      <td>False</td>\n",
       "      <td>False</td>\n",
       "      <td>False</td>\n",
       "      <td>False</td>\n",
       "      <td>True</td>\n",
       "      <td>...</td>\n",
       "      <td>False</td>\n",
       "      <td>False</td>\n",
       "      <td>False</td>\n",
       "      <td>False</td>\n",
       "      <td>False</td>\n",
       "      <td>False</td>\n",
       "      <td>False</td>\n",
       "      <td>False</td>\n",
       "      <td>False</td>\n",
       "      <td>False</td>\n",
       "    </tr>\n",
       "    <tr>\n",
       "      <th>3</th>\n",
       "      <td>False</td>\n",
       "      <td>False</td>\n",
       "      <td>False</td>\n",
       "      <td>False</td>\n",
       "      <td>False</td>\n",
       "      <td>False</td>\n",
       "      <td>False</td>\n",
       "      <td>False</td>\n",
       "      <td>False</td>\n",
       "      <td>False</td>\n",
       "      <td>...</td>\n",
       "      <td>True</td>\n",
       "      <td>False</td>\n",
       "      <td>False</td>\n",
       "      <td>False</td>\n",
       "      <td>False</td>\n",
       "      <td>False</td>\n",
       "      <td>False</td>\n",
       "      <td>False</td>\n",
       "      <td>False</td>\n",
       "      <td>False</td>\n",
       "    </tr>\n",
       "    <tr>\n",
       "      <th>4</th>\n",
       "      <td>False</td>\n",
       "      <td>False</td>\n",
       "      <td>False</td>\n",
       "      <td>False</td>\n",
       "      <td>False</td>\n",
       "      <td>False</td>\n",
       "      <td>False</td>\n",
       "      <td>False</td>\n",
       "      <td>False</td>\n",
       "      <td>False</td>\n",
       "      <td>...</td>\n",
       "      <td>True</td>\n",
       "      <td>False</td>\n",
       "      <td>False</td>\n",
       "      <td>False</td>\n",
       "      <td>False</td>\n",
       "      <td>False</td>\n",
       "      <td>False</td>\n",
       "      <td>False</td>\n",
       "      <td>False</td>\n",
       "      <td>False</td>\n",
       "    </tr>\n",
       "    <tr>\n",
       "      <th>...</th>\n",
       "      <td>...</td>\n",
       "      <td>...</td>\n",
       "      <td>...</td>\n",
       "      <td>...</td>\n",
       "      <td>...</td>\n",
       "      <td>...</td>\n",
       "      <td>...</td>\n",
       "      <td>...</td>\n",
       "      <td>...</td>\n",
       "      <td>...</td>\n",
       "      <td>...</td>\n",
       "      <td>...</td>\n",
       "      <td>...</td>\n",
       "      <td>...</td>\n",
       "      <td>...</td>\n",
       "      <td>...</td>\n",
       "      <td>...</td>\n",
       "      <td>...</td>\n",
       "      <td>...</td>\n",
       "      <td>...</td>\n",
       "      <td>...</td>\n",
       "    </tr>\n",
       "    <tr>\n",
       "      <th>71</th>\n",
       "      <td>False</td>\n",
       "      <td>False</td>\n",
       "      <td>False</td>\n",
       "      <td>False</td>\n",
       "      <td>False</td>\n",
       "      <td>False</td>\n",
       "      <td>False</td>\n",
       "      <td>False</td>\n",
       "      <td>False</td>\n",
       "      <td>False</td>\n",
       "      <td>...</td>\n",
       "      <td>True</td>\n",
       "      <td>False</td>\n",
       "      <td>False</td>\n",
       "      <td>False</td>\n",
       "      <td>False</td>\n",
       "      <td>False</td>\n",
       "      <td>False</td>\n",
       "      <td>False</td>\n",
       "      <td>False</td>\n",
       "      <td>False</td>\n",
       "    </tr>\n",
       "    <tr>\n",
       "      <th>72</th>\n",
       "      <td>False</td>\n",
       "      <td>False</td>\n",
       "      <td>False</td>\n",
       "      <td>False</td>\n",
       "      <td>False</td>\n",
       "      <td>False</td>\n",
       "      <td>False</td>\n",
       "      <td>False</td>\n",
       "      <td>False</td>\n",
       "      <td>False</td>\n",
       "      <td>...</td>\n",
       "      <td>False</td>\n",
       "      <td>False</td>\n",
       "      <td>False</td>\n",
       "      <td>False</td>\n",
       "      <td>False</td>\n",
       "      <td>False</td>\n",
       "      <td>False</td>\n",
       "      <td>False</td>\n",
       "      <td>False</td>\n",
       "      <td>False</td>\n",
       "    </tr>\n",
       "    <tr>\n",
       "      <th>73</th>\n",
       "      <td>False</td>\n",
       "      <td>False</td>\n",
       "      <td>False</td>\n",
       "      <td>False</td>\n",
       "      <td>False</td>\n",
       "      <td>False</td>\n",
       "      <td>False</td>\n",
       "      <td>False</td>\n",
       "      <td>False</td>\n",
       "      <td>False</td>\n",
       "      <td>...</td>\n",
       "      <td>False</td>\n",
       "      <td>False</td>\n",
       "      <td>False</td>\n",
       "      <td>False</td>\n",
       "      <td>False</td>\n",
       "      <td>False</td>\n",
       "      <td>False</td>\n",
       "      <td>False</td>\n",
       "      <td>False</td>\n",
       "      <td>False</td>\n",
       "    </tr>\n",
       "    <tr>\n",
       "      <th>74</th>\n",
       "      <td>False</td>\n",
       "      <td>False</td>\n",
       "      <td>False</td>\n",
       "      <td>False</td>\n",
       "      <td>False</td>\n",
       "      <td>False</td>\n",
       "      <td>False</td>\n",
       "      <td>False</td>\n",
       "      <td>False</td>\n",
       "      <td>False</td>\n",
       "      <td>...</td>\n",
       "      <td>False</td>\n",
       "      <td>False</td>\n",
       "      <td>False</td>\n",
       "      <td>False</td>\n",
       "      <td>False</td>\n",
       "      <td>False</td>\n",
       "      <td>False</td>\n",
       "      <td>False</td>\n",
       "      <td>False</td>\n",
       "      <td>False</td>\n",
       "    </tr>\n",
       "    <tr>\n",
       "      <th>75</th>\n",
       "      <td>False</td>\n",
       "      <td>False</td>\n",
       "      <td>False</td>\n",
       "      <td>False</td>\n",
       "      <td>False</td>\n",
       "      <td>False</td>\n",
       "      <td>False</td>\n",
       "      <td>False</td>\n",
       "      <td>False</td>\n",
       "      <td>False</td>\n",
       "      <td>...</td>\n",
       "      <td>True</td>\n",
       "      <td>False</td>\n",
       "      <td>False</td>\n",
       "      <td>False</td>\n",
       "      <td>False</td>\n",
       "      <td>False</td>\n",
       "      <td>False</td>\n",
       "      <td>False</td>\n",
       "      <td>False</td>\n",
       "      <td>False</td>\n",
       "    </tr>\n",
       "  </tbody>\n",
       "</table>\n",
       "<p>76 rows × 21 columns</p>\n",
       "</div>"
      ],
      "text/plain": [
       "    sample-id  barcode-sequence  elevation  extract-concen  \\\n",
       "0       False             False      False           False   \n",
       "1       False             False      False           False   \n",
       "2       False             False      False           False   \n",
       "3       False             False      False           False   \n",
       "4       False             False      False           False   \n",
       "..        ...               ...        ...             ...   \n",
       "71      False             False      False           False   \n",
       "72      False             False      False           False   \n",
       "73      False             False      False           False   \n",
       "74      False             False      False           False   \n",
       "75      False             False      False           False   \n",
       "\n",
       "    amplicon-concentration  extract-group-no  transect-name  site-name  depth  \\\n",
       "0                    False             False          False      False  False   \n",
       "1                    False             False          False      False  False   \n",
       "2                    False             False          False      False  False   \n",
       "3                    False             False          False      False  False   \n",
       "4                    False             False          False      False  False   \n",
       "..                     ...               ...            ...        ...    ...   \n",
       "71                   False             False          False      False  False   \n",
       "72                   False             False          False      False  False   \n",
       "73                   False             False          False      False  False   \n",
       "74                   False             False          False      False  False   \n",
       "75                   False             False          False      False  False   \n",
       "\n",
       "       ph  ...     ec  average-soil-relative-humidity  \\\n",
       "0   False  ...  False                           False   \n",
       "1   False  ...  False                           False   \n",
       "2    True  ...  False                           False   \n",
       "3   False  ...   True                           False   \n",
       "4   False  ...   True                           False   \n",
       "..    ...  ...    ...                             ...   \n",
       "71  False  ...   True                           False   \n",
       "72  False  ...  False                           False   \n",
       "73  False  ...  False                           False   \n",
       "74  False  ...  False                           False   \n",
       "75  False  ...   True                           False   \n",
       "\n",
       "    relative-humidity-soil-high  relative-humidity-soil-low  \\\n",
       "0                         False                       False   \n",
       "1                         False                       False   \n",
       "2                         False                       False   \n",
       "3                         False                       False   \n",
       "4                         False                       False   \n",
       "..                          ...                         ...   \n",
       "71                        False                       False   \n",
       "72                        False                       False   \n",
       "73                        False                       False   \n",
       "74                        False                       False   \n",
       "75                        False                       False   \n",
       "\n",
       "    percent-relative-humidity-soil-100  average-soil-temperature  \\\n",
       "0                                False                     False   \n",
       "1                                False                     False   \n",
       "2                                False                     False   \n",
       "3                                False                     False   \n",
       "4                                False                     False   \n",
       "..                                 ...                       ...   \n",
       "71                               False                     False   \n",
       "72                               False                     False   \n",
       "73                               False                     False   \n",
       "74                               False                     False   \n",
       "75                               False                     False   \n",
       "\n",
       "    temperature-soil-high  temperature-soil-low  vegetation  percentcover  \n",
       "0                   False                 False       False         False  \n",
       "1                   False                 False       False         False  \n",
       "2                   False                 False       False         False  \n",
       "3                   False                 False       False         False  \n",
       "4                   False                 False       False         False  \n",
       "..                    ...                   ...         ...           ...  \n",
       "71                  False                 False       False         False  \n",
       "72                  False                 False       False         False  \n",
       "73                  False                 False       False         False  \n",
       "74                  False                 False       False         False  \n",
       "75                  False                 False       False         False  \n",
       "\n",
       "[76 rows x 21 columns]"
      ]
     },
     "execution_count": 39,
     "metadata": {},
     "output_type": "execute_result"
    }
   ],
   "source": [
    "metadata.isnull()"
   ]
  },
  {
   "cell_type": "code",
   "execution_count": 40,
   "id": "a91c5936",
   "metadata": {},
   "outputs": [
    {
     "data": {
      "text/plain": [
       "(76, 21)"
      ]
     },
     "execution_count": 40,
     "metadata": {},
     "output_type": "execute_result"
    }
   ],
   "source": [
    "metadata.shape"
   ]
  },
  {
   "cell_type": "code",
   "execution_count": 41,
   "id": "764899d3",
   "metadata": {},
   "outputs": [],
   "source": [
    "metadata_ASRH = metadata[~metadata['sample-id'].isin(['BAQ4697.1', 'BAQ4697.2', 'BAQ4697.3'])]"
   ]
  },
  {
   "cell_type": "markdown",
   "id": "ec512150",
   "metadata": {},
   "source": [
    "Samples 'BAQ4697.1', 'BAQ4697.2', 'BAQ4697.3' were droped and df metadata_ASRH_1 has been created "
   ]
  },
  {
   "cell_type": "code",
   "execution_count": 42,
   "id": "ee6bfe11",
   "metadata": {},
   "outputs": [
    {
     "data": {
      "text/plain": [
       "(73, 21)"
      ]
     },
     "execution_count": 42,
     "metadata": {},
     "output_type": "execute_result"
    }
   ],
   "source": [
    "metadata_ASRH.shape"
   ]
  },
  {
   "cell_type": "code",
   "execution_count": 43,
   "id": "16f5377f",
   "metadata": {},
   "outputs": [],
   "source": [
    "metadata_ASRH.to_csv('metadata_ASRH_1.csv', index=False, sep='\\t')"
   ]
  },
  {
   "cell_type": "code",
   "execution_count": 44,
   "id": "ec76f618",
   "metadata": {},
   "outputs": [
    {
     "name": "stdout",
     "output_type": "stream",
     "text": [
      "\u001b[32mSaved DistanceMatrix to: core-metrics-results/average-soil-relative-humidity-distance-matrix.qza\u001b[0m\r\n",
      "\u001b[0m"
     ]
    }
   ],
   "source": [
    "!qiime metadata distance-matrix \\\n",
    "--m-metadata-file metadata_ASRH_1.csv \\\n",
    "--m-metadata-column average-soil-relative-humidity \\\n",
    "--o-distance-matrix core-metrics-results/average-soil-relative-humidity-distance-matrix.qza"
   ]
  },
  {
   "cell_type": "code",
   "execution_count": 45,
   "id": "f9df26d0",
   "metadata": {},
   "outputs": [
    {
     "name": "stdout",
     "output_type": "stream",
     "text": [
      "\u001b[32mSaved Visualization to: core-metrics-results/diversity-mantel-average-soil-relative-humidity-unifrac-uu.qzv\u001b[0m\n",
      "\u001b[0m"
     ]
    }
   ],
   "source": [
    "!qiime diversity mantel \\\n",
    "    --i-dm1 core-metrics-results/average-soil-relative-humidity-distance-matrix.qza \\\n",
    "    --i-dm2 core-metrics-results/unweighted_unifrac_distance_matrix.qza \\\n",
    "    --p-intersect-ids \\\n",
    "    --p-label1 'Average-soil-relative-humidity' \\\n",
    "    --p-label2 'UniFrac distance matrix' \\\n",
    "    --o-visualization core-metrics-results/diversity-mantel-average-soil-relative-humidity-unifrac-uu.qzv"
   ]
  },
  {
   "cell_type": "code",
   "execution_count": 46,
   "id": "45134458",
   "metadata": {},
   "outputs": [
    {
     "data": {
      "text/html": [
       "<div><img onload=\"(function(div, url){\n",
       "if (typeof require !== 'undefined') {\n",
       "    var baseURL = require.toUrl('').split('/').slice(0, -2).join('/');\n",
       "} else {\n",
       "    var baseURL = JSON.parse(\n",
       "        document.getElementById('jupyter-config-data').innerHTML\n",
       "    ).baseUrl.slice(0, -1);\n",
       "}\n",
       "url = baseURL + url;\n",
       "fetch(url).then(function(res) {\n",
       "    if (res.status === 404) {\n",
       "        div.innerHTML = 'Install QIIME 2 Jupyter extension with:<br />' +\n",
       "                        '<code>jupyter serverextension enable --py qiime2' +\n",
       "                        ' --sys-prefix</code><br />then restart your server.' +\n",
       "                        '<br /><br />(Interactive output not available on ' +\n",
       "                        'static notebook viewer services like nbviewer.)';\n",
       "    } else if (res.status === 409) {\n",
       "        div.innerHTML = 'Visualization no longer in scope. Re-run this cell' +\n",
       "                        ' to see the visualization.';\n",
       "    } else if (res.ok) {\n",
       "        url = res.url;\n",
       "        div.innerHTML = '<iframe src=\\'' + url + '\\' style=\\'' +\n",
       "                        'width: 100%; height: 700px; border: 0;\\'>' +\n",
       "                        '</iframe><hr />Open in a: <a href=\\'' + url + '\\'' +\n",
       "                        ' target=\\'_blank\\'>new window</a>'\n",
       "    } else {\n",
       "        div.innerHTML = 'Something has gone wrong. Check notebook server for' +\n",
       "                        ' errors.';\n",
       "    }\n",
       "});\n",
       "})(this.parentElement, '/qiime2/redirect?location=/tmp/qiime2/kingosz/data/2b1b0642-d25b-4663-a0fb-455800e75c8e')\" src=\"data:image/gif;base64,R0lGODlhAQABAIAAAP///wAAACH5BAEAAAAALAAAAAABAAEAAAICRAEAOw==\" /></div>"
      ],
      "text/plain": [
       "<visualization: Visualization uuid: 2b1b0642-d25b-4663-a0fb-455800e75c8e>"
      ]
     },
     "execution_count": 46,
     "metadata": {},
     "output_type": "execute_result"
    }
   ],
   "source": [
    "Visualization.load('core-metrics-results/diversity-mantel-average-soil-relative-humidity-unifrac-uu.qzv')"
   ]
  },
  {
   "cell_type": "code",
   "execution_count": 47,
   "id": "4940dd62",
   "metadata": {},
   "outputs": [
    {
     "name": "stdout",
     "output_type": "stream",
     "text": [
      "\u001b[32mSaved Visualization to: core-metrics-results/diversity-mantel-average-soil-relative-humidity-unifrac-wu.qzv\u001b[0m\n",
      "\u001b[0m"
     ]
    }
   ],
   "source": [
    "!qiime diversity mantel \\\n",
    "    --i-dm1 core-metrics-results/average-soil-relative-humidity-distance-matrix.qza \\\n",
    "    --i-dm2 core-metrics-results/weighted_unifrac_distance_matrix.qza \\\n",
    "    --p-intersect-ids \\\n",
    "    --p-label1 'Average-soil-relative-humidity' \\\n",
    "    --p-label2 'UniFrac distance matrix' \\\n",
    "    --o-visualization core-metrics-results/diversity-mantel-average-soil-relative-humidity-unifrac-wu.qzv"
   ]
  },
  {
   "cell_type": "code",
   "execution_count": 48,
   "id": "8d39da04",
   "metadata": {},
   "outputs": [
    {
     "data": {
      "text/html": [
       "<div><img onload=\"(function(div, url){\n",
       "if (typeof require !== 'undefined') {\n",
       "    var baseURL = require.toUrl('').split('/').slice(0, -2).join('/');\n",
       "} else {\n",
       "    var baseURL = JSON.parse(\n",
       "        document.getElementById('jupyter-config-data').innerHTML\n",
       "    ).baseUrl.slice(0, -1);\n",
       "}\n",
       "url = baseURL + url;\n",
       "fetch(url).then(function(res) {\n",
       "    if (res.status === 404) {\n",
       "        div.innerHTML = 'Install QIIME 2 Jupyter extension with:<br />' +\n",
       "                        '<code>jupyter serverextension enable --py qiime2' +\n",
       "                        ' --sys-prefix</code><br />then restart your server.' +\n",
       "                        '<br /><br />(Interactive output not available on ' +\n",
       "                        'static notebook viewer services like nbviewer.)';\n",
       "    } else if (res.status === 409) {\n",
       "        div.innerHTML = 'Visualization no longer in scope. Re-run this cell' +\n",
       "                        ' to see the visualization.';\n",
       "    } else if (res.ok) {\n",
       "        url = res.url;\n",
       "        div.innerHTML = '<iframe src=\\'' + url + '\\' style=\\'' +\n",
       "                        'width: 100%; height: 700px; border: 0;\\'>' +\n",
       "                        '</iframe><hr />Open in a: <a href=\\'' + url + '\\'' +\n",
       "                        ' target=\\'_blank\\'>new window</a>'\n",
       "    } else {\n",
       "        div.innerHTML = 'Something has gone wrong. Check notebook server for' +\n",
       "                        ' errors.';\n",
       "    }\n",
       "});\n",
       "})(this.parentElement, '/qiime2/redirect?location=/tmp/qiime2/kingosz/data/94222df3-097d-47f5-80d3-287fb3a70253')\" src=\"data:image/gif;base64,R0lGODlhAQABAIAAAP///wAAACH5BAEAAAAALAAAAAABAAEAAAICRAEAOw==\" /></div>"
      ],
      "text/plain": [
       "<visualization: Visualization uuid: 94222df3-097d-47f5-80d3-287fb3a70253>"
      ]
     },
     "execution_count": 48,
     "metadata": {},
     "output_type": "execute_result"
    }
   ],
   "source": [
    "Visualization.load('core-metrics-results/diversity-mantel-average-soil-relative-humidity-unifrac-wu.qzv')"
   ]
  },
  {
   "cell_type": "markdown",
   "id": "75d57d13",
   "metadata": {},
   "source": [
    "Corelation between the avarage soil relative humidity and community composition was stronger than with elevation. Higher corelation was observed for the qualitative phylogenetic community composition, unweighted UniFrac Mantel’s r = 0.600, while weighted UniFrac Mantel’s r = 0.460.\n"
   ]
  },
  {
   "cell_type": "markdown",
   "id": "18cfa338",
   "metadata": {},
   "source": [
    "### Corelation between microbial community and average soil temperature"
   ]
  },
  {
   "cell_type": "code",
   "execution_count": 49,
   "id": "19bfe825",
   "metadata": {},
   "outputs": [
    {
     "name": "stdout",
     "output_type": "stream",
     "text": [
      "\u001b[32mSaved DistanceMatrix to: core-metrics-results/average-soil-temperature-distance-matrix.qza\u001b[0m\r\n",
      "\u001b[0m"
     ]
    }
   ],
   "source": [
    "!qiime metadata distance-matrix \\\n",
    "--m-metadata-file metadata_ASRH_1.csv \\\n",
    "--m-metadata-column average-soil-temperature \\\n",
    "--o-distance-matrix core-metrics-results/average-soil-temperature-distance-matrix.qza"
   ]
  },
  {
   "cell_type": "code",
   "execution_count": 50,
   "id": "9f6a9660",
   "metadata": {},
   "outputs": [
    {
     "name": "stdout",
     "output_type": "stream",
     "text": [
      "\u001b[32mSaved Visualization to: core-metrics-results/diversity-mantel-average-soil-temperature-unifrac-uu.qzv\u001b[0m\n",
      "\u001b[0m"
     ]
    }
   ],
   "source": [
    "!qiime diversity mantel \\\n",
    "    --i-dm1 core-metrics-results/average-soil-temperature-distance-matrix.qza \\\n",
    "    --i-dm2 core-metrics-results/unweighted_unifrac_distance_matrix.qza \\\n",
    "    --p-intersect-ids \\\n",
    "    --p-label1 'Average-soil-temperature' \\\n",
    "    --p-label2 'UniFrac distance matrix' \\\n",
    "    --o-visualization core-metrics-results/diversity-mantel-average-soil-temperature-unifrac-uu.qzv"
   ]
  },
  {
   "cell_type": "code",
   "execution_count": 51,
   "id": "669fcf20",
   "metadata": {},
   "outputs": [
    {
     "data": {
      "text/html": [
       "<div><img onload=\"(function(div, url){\n",
       "if (typeof require !== 'undefined') {\n",
       "    var baseURL = require.toUrl('').split('/').slice(0, -2).join('/');\n",
       "} else {\n",
       "    var baseURL = JSON.parse(\n",
       "        document.getElementById('jupyter-config-data').innerHTML\n",
       "    ).baseUrl.slice(0, -1);\n",
       "}\n",
       "url = baseURL + url;\n",
       "fetch(url).then(function(res) {\n",
       "    if (res.status === 404) {\n",
       "        div.innerHTML = 'Install QIIME 2 Jupyter extension with:<br />' +\n",
       "                        '<code>jupyter serverextension enable --py qiime2' +\n",
       "                        ' --sys-prefix</code><br />then restart your server.' +\n",
       "                        '<br /><br />(Interactive output not available on ' +\n",
       "                        'static notebook viewer services like nbviewer.)';\n",
       "    } else if (res.status === 409) {\n",
       "        div.innerHTML = 'Visualization no longer in scope. Re-run this cell' +\n",
       "                        ' to see the visualization.';\n",
       "    } else if (res.ok) {\n",
       "        url = res.url;\n",
       "        div.innerHTML = '<iframe src=\\'' + url + '\\' style=\\'' +\n",
       "                        'width: 100%; height: 700px; border: 0;\\'>' +\n",
       "                        '</iframe><hr />Open in a: <a href=\\'' + url + '\\'' +\n",
       "                        ' target=\\'_blank\\'>new window</a>'\n",
       "    } else {\n",
       "        div.innerHTML = 'Something has gone wrong. Check notebook server for' +\n",
       "                        ' errors.';\n",
       "    }\n",
       "});\n",
       "})(this.parentElement, '/qiime2/redirect?location=/tmp/qiime2/kingosz/data/8729bdc0-0e91-4858-8e73-f5472686279a')\" src=\"data:image/gif;base64,R0lGODlhAQABAIAAAP///wAAACH5BAEAAAAALAAAAAABAAEAAAICRAEAOw==\" /></div>"
      ],
      "text/plain": [
       "<visualization: Visualization uuid: 8729bdc0-0e91-4858-8e73-f5472686279a>"
      ]
     },
     "execution_count": 51,
     "metadata": {},
     "output_type": "execute_result"
    }
   ],
   "source": [
    "Visualization.load('core-metrics-results/diversity-mantel-average-soil-temperature-unifrac-uu.qzv')"
   ]
  },
  {
   "cell_type": "markdown",
   "id": "10e6273a",
   "metadata": {},
   "source": [
    "The correlation between avarage soil temperature and microbial community was weak, Mantel's r=0.384. "
   ]
  },
  {
   "cell_type": "markdown",
   "id": "4da6cfad",
   "metadata": {},
   "source": [
    "# Alfa diversity"
   ]
  },
  {
   "cell_type": "code",
   "execution_count": 52,
   "id": "d57d7f37",
   "metadata": {},
   "outputs": [
    {
     "name": "stdout",
     "output_type": "stream",
     "text": [
      "\u001b[32mSaved Visualization to: core-metrics-results/faith-pd-group-significance.qzv\u001b[0m\n",
      "\u001b[0m\u001b[32mSaved Visualization to: core-metrics-results/evenness-group-significance.qzv\u001b[0m\n",
      "\u001b[0m\u001b[32mSaved Visualization to: core-metrics-results/shannon-group-significance.qzv\u001b[0m\n",
      "\u001b[0m"
     ]
    }
   ],
   "source": [
    "!qiime diversity alpha-group-significance \\\n",
    "  --i-alpha-diversity core-metrics-results/faith_pd_vector.qza \\\n",
    "  --m-metadata-file sample-metadata.tsv \\\n",
    "  --o-visualization core-metrics-results/faith-pd-group-significance.qzv\n",
    "\n",
    "!qiime diversity alpha-group-significance \\\n",
    "  --i-alpha-diversity core-metrics-results/evenness_vector.qza \\\n",
    "  --m-metadata-file sample-metadata.tsv \\\n",
    "  --o-visualization core-metrics-results/evenness-group-significance.qzv\n",
    "\n",
    "!qiime diversity alpha-group-significance \\\n",
    "  --i-alpha-diversity core-metrics-results/shannon_vector.qza \\\n",
    "  --m-metadata-file sample-metadata.tsv \\\n",
    "  --o-visualization core-metrics-results/shannon-group-significance.qzv"
   ]
  },
  {
   "cell_type": "code",
   "execution_count": 53,
   "id": "0bb606dc",
   "metadata": {},
   "outputs": [
    {
     "data": {
      "text/html": [
       "<div><img onload=\"(function(div, url){\n",
       "if (typeof require !== 'undefined') {\n",
       "    var baseURL = require.toUrl('').split('/').slice(0, -2).join('/');\n",
       "} else {\n",
       "    var baseURL = JSON.parse(\n",
       "        document.getElementById('jupyter-config-data').innerHTML\n",
       "    ).baseUrl.slice(0, -1);\n",
       "}\n",
       "url = baseURL + url;\n",
       "fetch(url).then(function(res) {\n",
       "    if (res.status === 404) {\n",
       "        div.innerHTML = 'Install QIIME 2 Jupyter extension with:<br />' +\n",
       "                        '<code>jupyter serverextension enable --py qiime2' +\n",
       "                        ' --sys-prefix</code><br />then restart your server.' +\n",
       "                        '<br /><br />(Interactive output not available on ' +\n",
       "                        'static notebook viewer services like nbviewer.)';\n",
       "    } else if (res.status === 409) {\n",
       "        div.innerHTML = 'Visualization no longer in scope. Re-run this cell' +\n",
       "                        ' to see the visualization.';\n",
       "    } else if (res.ok) {\n",
       "        url = res.url;\n",
       "        div.innerHTML = '<iframe src=\\'' + url + '\\' style=\\'' +\n",
       "                        'width: 100%; height: 700px; border: 0;\\'>' +\n",
       "                        '</iframe><hr />Open in a: <a href=\\'' + url + '\\'' +\n",
       "                        ' target=\\'_blank\\'>new window</a>'\n",
       "    } else {\n",
       "        div.innerHTML = 'Something has gone wrong. Check notebook server for' +\n",
       "                        ' errors.';\n",
       "    }\n",
       "});\n",
       "})(this.parentElement, '/qiime2/redirect?location=/tmp/qiime2/kingosz/data/fc3af9f0-0ad4-47ac-8bd9-98f04429027d')\" src=\"data:image/gif;base64,R0lGODlhAQABAIAAAP///wAAACH5BAEAAAAALAAAAAABAAEAAAICRAEAOw==\" /></div>"
      ],
      "text/plain": [
       "<visualization: Visualization uuid: fc3af9f0-0ad4-47ac-8bd9-98f04429027d>"
      ]
     },
     "execution_count": 53,
     "metadata": {},
     "output_type": "execute_result"
    }
   ],
   "source": [
    "Visualization.load('core-metrics-results/faith-pd-group-significance.qzv')"
   ]
  },
  {
   "cell_type": "code",
   "execution_count": 54,
   "id": "6715aa1d",
   "metadata": {},
   "outputs": [
    {
     "data": {
      "text/html": [
       "<div><img onload=\"(function(div, url){\n",
       "if (typeof require !== 'undefined') {\n",
       "    var baseURL = require.toUrl('').split('/').slice(0, -2).join('/');\n",
       "} else {\n",
       "    var baseURL = JSON.parse(\n",
       "        document.getElementById('jupyter-config-data').innerHTML\n",
       "    ).baseUrl.slice(0, -1);\n",
       "}\n",
       "url = baseURL + url;\n",
       "fetch(url).then(function(res) {\n",
       "    if (res.status === 404) {\n",
       "        div.innerHTML = 'Install QIIME 2 Jupyter extension with:<br />' +\n",
       "                        '<code>jupyter serverextension enable --py qiime2' +\n",
       "                        ' --sys-prefix</code><br />then restart your server.' +\n",
       "                        '<br /><br />(Interactive output not available on ' +\n",
       "                        'static notebook viewer services like nbviewer.)';\n",
       "    } else if (res.status === 409) {\n",
       "        div.innerHTML = 'Visualization no longer in scope. Re-run this cell' +\n",
       "                        ' to see the visualization.';\n",
       "    } else if (res.ok) {\n",
       "        url = res.url;\n",
       "        div.innerHTML = '<iframe src=\\'' + url + '\\' style=\\'' +\n",
       "                        'width: 100%; height: 700px; border: 0;\\'>' +\n",
       "                        '</iframe><hr />Open in a: <a href=\\'' + url + '\\'' +\n",
       "                        ' target=\\'_blank\\'>new window</a>'\n",
       "    } else {\n",
       "        div.innerHTML = 'Something has gone wrong. Check notebook server for' +\n",
       "                        ' errors.';\n",
       "    }\n",
       "});\n",
       "})(this.parentElement, '/qiime2/redirect?location=/tmp/qiime2/kingosz/data/fc9791d6-c333-4880-ade9-894a584ffd53')\" src=\"data:image/gif;base64,R0lGODlhAQABAIAAAP///wAAACH5BAEAAAAALAAAAAABAAEAAAICRAEAOw==\" /></div>"
      ],
      "text/plain": [
       "<visualization: Visualization uuid: fc9791d6-c333-4880-ade9-894a584ffd53>"
      ]
     },
     "execution_count": 54,
     "metadata": {},
     "output_type": "execute_result"
    }
   ],
   "source": [
    "Visualization.load('core-metrics-results/shannon-group-significance.qzv')"
   ]
  },
  {
   "cell_type": "markdown",
   "id": "9399e7c0",
   "metadata": {},
   "source": [
    "### Merging the metadata with apha diversity metrix"
   ]
  },
  {
   "cell_type": "code",
   "execution_count": 55,
   "id": "bd261337",
   "metadata": {},
   "outputs": [
    {
     "name": "stdout",
     "output_type": "stream",
     "text": [
      "\u001b[32mSaved Visualization to: tabulated-combined-metadata.qzv\u001b[0m\n",
      "\u001b[0m"
     ]
    }
   ],
   "source": [
    "!qiime metadata tabulate \\\n",
    "  --m-input-file metadata_ASRH_1.csv \\\n",
    "  --m-input-file core-metrics-results/faith_pd_vector.qza \\\n",
    "  --m-input-file core-metrics-results/shannon_vector.qza \\\n",
    "  --m-input-file core-metrics-results/evenness_vector.qza \\\n",
    "  --o-visualization tabulated-combined-metadata.qzv"
   ]
  },
  {
   "cell_type": "code",
   "execution_count": 56,
   "id": "3ef59db0",
   "metadata": {},
   "outputs": [
    {
     "data": {
      "text/html": [
       "<div><img onload=\"(function(div, url){\n",
       "if (typeof require !== 'undefined') {\n",
       "    var baseURL = require.toUrl('').split('/').slice(0, -2).join('/');\n",
       "} else {\n",
       "    var baseURL = JSON.parse(\n",
       "        document.getElementById('jupyter-config-data').innerHTML\n",
       "    ).baseUrl.slice(0, -1);\n",
       "}\n",
       "url = baseURL + url;\n",
       "fetch(url).then(function(res) {\n",
       "    if (res.status === 404) {\n",
       "        div.innerHTML = 'Install QIIME 2 Jupyter extension with:<br />' +\n",
       "                        '<code>jupyter serverextension enable --py qiime2' +\n",
       "                        ' --sys-prefix</code><br />then restart your server.' +\n",
       "                        '<br /><br />(Interactive output not available on ' +\n",
       "                        'static notebook viewer services like nbviewer.)';\n",
       "    } else if (res.status === 409) {\n",
       "        div.innerHTML = 'Visualization no longer in scope. Re-run this cell' +\n",
       "                        ' to see the visualization.';\n",
       "    } else if (res.ok) {\n",
       "        url = res.url;\n",
       "        div.innerHTML = '<iframe src=\\'' + url + '\\' style=\\'' +\n",
       "                        'width: 100%; height: 700px; border: 0;\\'>' +\n",
       "                        '</iframe><hr />Open in a: <a href=\\'' + url + '\\'' +\n",
       "                        ' target=\\'_blank\\'>new window</a>'\n",
       "    } else {\n",
       "        div.innerHTML = 'Something has gone wrong. Check notebook server for' +\n",
       "                        ' errors.';\n",
       "    }\n",
       "});\n",
       "})(this.parentElement, '/qiime2/redirect?location=/tmp/qiime2/kingosz/data/076fdc3c-8360-4534-8609-453787fb5ed0')\" src=\"data:image/gif;base64,R0lGODlhAQABAIAAAP///wAAACH5BAEAAAAALAAAAAABAAEAAAICRAEAOw==\" /></div>"
      ],
      "text/plain": [
       "<visualization: Visualization uuid: 076fdc3c-8360-4534-8609-453787fb5ed0>"
      ]
     },
     "execution_count": 56,
     "metadata": {},
     "output_type": "execute_result"
    }
   ],
   "source": [
    "Visualization.load('tabulated-combined-metadata.qzv')"
   ]
  },
  {
   "cell_type": "code",
   "execution_count": 57,
   "id": "15597958",
   "metadata": {},
   "outputs": [],
   "source": [
    "metadata_al=pd.read_csv('metadata_alpha.tsv', sep='\\t')"
   ]
  },
  {
   "cell_type": "code",
   "execution_count": 58,
   "id": "46b3233c",
   "metadata": {},
   "outputs": [
    {
     "data": {
      "text/html": [
       "<div>\n",
       "<style scoped>\n",
       "    .dataframe tbody tr th:only-of-type {\n",
       "        vertical-align: middle;\n",
       "    }\n",
       "\n",
       "    .dataframe tbody tr th {\n",
       "        vertical-align: top;\n",
       "    }\n",
       "\n",
       "    .dataframe thead th {\n",
       "        text-align: right;\n",
       "    }\n",
       "</style>\n",
       "<table border=\"1\" class=\"dataframe\">\n",
       "  <thead>\n",
       "    <tr style=\"text-align: right;\">\n",
       "      <th></th>\n",
       "      <th>id</th>\n",
       "      <th>barcode-sequence</th>\n",
       "      <th>elevation</th>\n",
       "      <th>extract-concen</th>\n",
       "      <th>amplicon-concentration</th>\n",
       "      <th>extract-group-no</th>\n",
       "      <th>transect-name</th>\n",
       "      <th>site-name</th>\n",
       "      <th>depth</th>\n",
       "      <th>ph</th>\n",
       "      <th>...</th>\n",
       "      <th>relative-humidity-soil-low</th>\n",
       "      <th>percent-relative-humidity-soil-100</th>\n",
       "      <th>average-soil-temperature</th>\n",
       "      <th>temperature-soil-high</th>\n",
       "      <th>temperature-soil-low</th>\n",
       "      <th>vegetation</th>\n",
       "      <th>percentcover</th>\n",
       "      <th>faith_pd</th>\n",
       "      <th>shannon_entropy</th>\n",
       "      <th>pielou_evenness</th>\n",
       "    </tr>\n",
       "  </thead>\n",
       "  <tbody>\n",
       "    <tr>\n",
       "      <th>0</th>\n",
       "      <td>#q2:types</td>\n",
       "      <td>categorical</td>\n",
       "      <td>numeric</td>\n",
       "      <td>numeric</td>\n",
       "      <td>numeric</td>\n",
       "      <td>categorical</td>\n",
       "      <td>categorical</td>\n",
       "      <td>categorical</td>\n",
       "      <td>numeric</td>\n",
       "      <td>numeric</td>\n",
       "      <td>...</td>\n",
       "      <td>numeric</td>\n",
       "      <td>numeric</td>\n",
       "      <td>numeric</td>\n",
       "      <td>numeric</td>\n",
       "      <td>numeric</td>\n",
       "      <td>categorical</td>\n",
       "      <td>numeric</td>\n",
       "      <td>numeric</td>\n",
       "      <td>numeric</td>\n",
       "      <td>numeric</td>\n",
       "    </tr>\n",
       "    <tr>\n",
       "      <th>1</th>\n",
       "      <td>BAQ2420.1.1</td>\n",
       "      <td>ACACAGTCCTGA</td>\n",
       "      <td>2420</td>\n",
       "      <td>0.35</td>\n",
       "      <td>7.4</td>\n",
       "      <td>H</td>\n",
       "      <td>Baquedano</td>\n",
       "      <td>BAQ2420</td>\n",
       "      <td>1</td>\n",
       "      <td>9.33</td>\n",
       "      <td>...</td>\n",
       "      <td>41.135</td>\n",
       "      <td>46.77</td>\n",
       "      <td>22.45</td>\n",
       "      <td>28.297</td>\n",
       "      <td>13.294</td>\n",
       "      <td>no</td>\n",
       "      <td>0</td>\n",
       "      <td>5.8065988333929</td>\n",
       "      <td>4.21212170262176</td>\n",
       "      <td>0.896112269319252</td>\n",
       "    </tr>\n",
       "    <tr>\n",
       "      <th>2</th>\n",
       "      <td>BAQ2420.1.2</td>\n",
       "      <td>ATTATACGGCGC</td>\n",
       "      <td>2420</td>\n",
       "      <td>0.108</td>\n",
       "      <td>11.42</td>\n",
       "      <td>H</td>\n",
       "      <td>Baquedano</td>\n",
       "      <td>BAQ2420</td>\n",
       "      <td>2</td>\n",
       "      <td>9.36</td>\n",
       "      <td>...</td>\n",
       "      <td>41.135</td>\n",
       "      <td>46.77</td>\n",
       "      <td>22.45</td>\n",
       "      <td>28.297</td>\n",
       "      <td>13.294</td>\n",
       "      <td>no</td>\n",
       "      <td>0</td>\n",
       "      <td>6.19901836366772</td>\n",
       "      <td>4.55460592602971</td>\n",
       "      <td>0.910921185205943</td>\n",
       "    </tr>\n",
       "    <tr>\n",
       "      <th>3</th>\n",
       "      <td>BAQ2420.2</td>\n",
       "      <td>TAAACGCGACTC</td>\n",
       "      <td>2420</td>\n",
       "      <td>0.089</td>\n",
       "      <td>10.06</td>\n",
       "      <td>A</td>\n",
       "      <td>Baquedano</td>\n",
       "      <td>BAQ2420</td>\n",
       "      <td>2</td>\n",
       "      <td>9.36</td>\n",
       "      <td>...</td>\n",
       "      <td>41.135</td>\n",
       "      <td>46.77</td>\n",
       "      <td>22.45</td>\n",
       "      <td>28.297</td>\n",
       "      <td>13.294</td>\n",
       "      <td>no</td>\n",
       "      <td>0</td>\n",
       "      <td>5.68510137101081</td>\n",
       "      <td>4.88764999587309</td>\n",
       "      <td>0.93134861016133</td>\n",
       "    </tr>\n",
       "    <tr>\n",
       "      <th>4</th>\n",
       "      <td>BAQ2420.3</td>\n",
       "      <td>CCTCGGGTACTA</td>\n",
       "      <td>2420</td>\n",
       "      <td>0.083</td>\n",
       "      <td>15.92</td>\n",
       "      <td>C</td>\n",
       "      <td>Baquedano</td>\n",
       "      <td>BAQ2420</td>\n",
       "      <td>2</td>\n",
       "      <td>9.36</td>\n",
       "      <td>...</td>\n",
       "      <td>41.135</td>\n",
       "      <td>46.77</td>\n",
       "      <td>22.45</td>\n",
       "      <td>28.297</td>\n",
       "      <td>13.294</td>\n",
       "      <td>no</td>\n",
       "      <td>0</td>\n",
       "      <td>5.53301985340344</td>\n",
       "      <td>4.90612457180694</td>\n",
       "      <td>0.941773392996793</td>\n",
       "    </tr>\n",
       "  </tbody>\n",
       "</table>\n",
       "<p>5 rows × 24 columns</p>\n",
       "</div>"
      ],
      "text/plain": [
       "            id barcode-sequence elevation extract-concen  \\\n",
       "0    #q2:types      categorical   numeric        numeric   \n",
       "1  BAQ2420.1.1     ACACAGTCCTGA      2420           0.35   \n",
       "2  BAQ2420.1.2     ATTATACGGCGC      2420          0.108   \n",
       "3    BAQ2420.2     TAAACGCGACTC      2420          0.089   \n",
       "4    BAQ2420.3     CCTCGGGTACTA      2420          0.083   \n",
       "\n",
       "  amplicon-concentration extract-group-no transect-name    site-name    depth  \\\n",
       "0                numeric      categorical   categorical  categorical  numeric   \n",
       "1                    7.4                H     Baquedano      BAQ2420        1   \n",
       "2                  11.42                H     Baquedano      BAQ2420        2   \n",
       "3                  10.06                A     Baquedano      BAQ2420        2   \n",
       "4                  15.92                C     Baquedano      BAQ2420        2   \n",
       "\n",
       "        ph  ... relative-humidity-soil-low percent-relative-humidity-soil-100  \\\n",
       "0  numeric  ...                    numeric                            numeric   \n",
       "1     9.33  ...                     41.135                              46.77   \n",
       "2     9.36  ...                     41.135                              46.77   \n",
       "3     9.36  ...                     41.135                              46.77   \n",
       "4     9.36  ...                     41.135                              46.77   \n",
       "\n",
       "  average-soil-temperature temperature-soil-high temperature-soil-low  \\\n",
       "0                  numeric               numeric              numeric   \n",
       "1                    22.45                28.297               13.294   \n",
       "2                    22.45                28.297               13.294   \n",
       "3                    22.45                28.297               13.294   \n",
       "4                    22.45                28.297               13.294   \n",
       "\n",
       "    vegetation percentcover          faith_pd   shannon_entropy  \\\n",
       "0  categorical      numeric           numeric           numeric   \n",
       "1           no            0   5.8065988333929  4.21212170262176   \n",
       "2           no            0  6.19901836366772  4.55460592602971   \n",
       "3           no            0  5.68510137101081  4.88764999587309   \n",
       "4           no            0  5.53301985340344  4.90612457180694   \n",
       "\n",
       "     pielou_evenness  \n",
       "0            numeric  \n",
       "1  0.896112269319252  \n",
       "2  0.910921185205943  \n",
       "3   0.93134861016133  \n",
       "4  0.941773392996793  \n",
       "\n",
       "[5 rows x 24 columns]"
      ]
     },
     "execution_count": 58,
     "metadata": {},
     "output_type": "execute_result"
    }
   ],
   "source": [
    "metadata_al.head()"
   ]
  },
  {
   "cell_type": "markdown",
   "id": "59c677be",
   "metadata": {},
   "source": [
    "#### Shape of dataset"
   ]
  },
  {
   "cell_type": "code",
   "execution_count": 59,
   "id": "5f0fba0a",
   "metadata": {},
   "outputs": [
    {
     "data": {
      "text/plain": [
       "(47, 24)"
      ]
     },
     "execution_count": 59,
     "metadata": {},
     "output_type": "execute_result"
    }
   ],
   "source": [
    "metadata_al.shape"
   ]
  },
  {
   "cell_type": "markdown",
   "id": "b65dc274",
   "metadata": {},
   "source": [
    "#### Dataset columns"
   ]
  },
  {
   "cell_type": "code",
   "execution_count": 60,
   "id": "535def92",
   "metadata": {},
   "outputs": [
    {
     "data": {
      "text/plain": [
       "Index(['id', 'barcode-sequence', 'elevation', 'extract-concen',\n",
       "       'amplicon-concentration', 'extract-group-no', 'transect-name',\n",
       "       'site-name', 'depth', 'ph', 'toc', 'ec',\n",
       "       'average-soil-relative-humidity', 'relative-humidity-soil-high',\n",
       "       'relative-humidity-soil-low', 'percent-relative-humidity-soil-100',\n",
       "       'average-soil-temperature', 'temperature-soil-high',\n",
       "       'temperature-soil-low', 'vegetation', 'percentcover', 'faith_pd',\n",
       "       'shannon_entropy', 'pielou_evenness'],\n",
       "      dtype='object')"
      ]
     },
     "execution_count": 60,
     "metadata": {},
     "output_type": "execute_result"
    }
   ],
   "source": [
    "metadata_al.columns"
   ]
  },
  {
   "cell_type": "markdown",
   "id": "8bb0bbfd",
   "metadata": {},
   "source": [
    "#### Droping 1st row"
   ]
  },
  {
   "cell_type": "code",
   "execution_count": 61,
   "id": "a0bcba46",
   "metadata": {},
   "outputs": [
    {
     "data": {
      "text/html": [
       "<div>\n",
       "<style scoped>\n",
       "    .dataframe tbody tr th:only-of-type {\n",
       "        vertical-align: middle;\n",
       "    }\n",
       "\n",
       "    .dataframe tbody tr th {\n",
       "        vertical-align: top;\n",
       "    }\n",
       "\n",
       "    .dataframe thead th {\n",
       "        text-align: right;\n",
       "    }\n",
       "</style>\n",
       "<table border=\"1\" class=\"dataframe\">\n",
       "  <thead>\n",
       "    <tr style=\"text-align: right;\">\n",
       "      <th></th>\n",
       "      <th>id</th>\n",
       "      <th>barcode-sequence</th>\n",
       "      <th>elevation</th>\n",
       "      <th>extract-concen</th>\n",
       "      <th>amplicon-concentration</th>\n",
       "      <th>extract-group-no</th>\n",
       "      <th>transect-name</th>\n",
       "      <th>site-name</th>\n",
       "      <th>depth</th>\n",
       "      <th>ph</th>\n",
       "      <th>...</th>\n",
       "      <th>relative-humidity-soil-low</th>\n",
       "      <th>percent-relative-humidity-soil-100</th>\n",
       "      <th>average-soil-temperature</th>\n",
       "      <th>temperature-soil-high</th>\n",
       "      <th>temperature-soil-low</th>\n",
       "      <th>vegetation</th>\n",
       "      <th>percentcover</th>\n",
       "      <th>faith_pd</th>\n",
       "      <th>shannon_entropy</th>\n",
       "      <th>pielou_evenness</th>\n",
       "    </tr>\n",
       "  </thead>\n",
       "  <tbody>\n",
       "    <tr>\n",
       "      <th>1</th>\n",
       "      <td>BAQ2420.1.1</td>\n",
       "      <td>ACACAGTCCTGA</td>\n",
       "      <td>2420</td>\n",
       "      <td>0.35</td>\n",
       "      <td>7.4</td>\n",
       "      <td>H</td>\n",
       "      <td>Baquedano</td>\n",
       "      <td>BAQ2420</td>\n",
       "      <td>1</td>\n",
       "      <td>9.33</td>\n",
       "      <td>...</td>\n",
       "      <td>41.135</td>\n",
       "      <td>46.77</td>\n",
       "      <td>22.45</td>\n",
       "      <td>28.297</td>\n",
       "      <td>13.294</td>\n",
       "      <td>no</td>\n",
       "      <td>0</td>\n",
       "      <td>5.8065988333929</td>\n",
       "      <td>4.21212170262176</td>\n",
       "      <td>0.896112269319252</td>\n",
       "    </tr>\n",
       "    <tr>\n",
       "      <th>2</th>\n",
       "      <td>BAQ2420.1.2</td>\n",
       "      <td>ATTATACGGCGC</td>\n",
       "      <td>2420</td>\n",
       "      <td>0.108</td>\n",
       "      <td>11.42</td>\n",
       "      <td>H</td>\n",
       "      <td>Baquedano</td>\n",
       "      <td>BAQ2420</td>\n",
       "      <td>2</td>\n",
       "      <td>9.36</td>\n",
       "      <td>...</td>\n",
       "      <td>41.135</td>\n",
       "      <td>46.77</td>\n",
       "      <td>22.45</td>\n",
       "      <td>28.297</td>\n",
       "      <td>13.294</td>\n",
       "      <td>no</td>\n",
       "      <td>0</td>\n",
       "      <td>6.19901836366772</td>\n",
       "      <td>4.55460592602971</td>\n",
       "      <td>0.910921185205943</td>\n",
       "    </tr>\n",
       "    <tr>\n",
       "      <th>3</th>\n",
       "      <td>BAQ2420.2</td>\n",
       "      <td>TAAACGCGACTC</td>\n",
       "      <td>2420</td>\n",
       "      <td>0.089</td>\n",
       "      <td>10.06</td>\n",
       "      <td>A</td>\n",
       "      <td>Baquedano</td>\n",
       "      <td>BAQ2420</td>\n",
       "      <td>2</td>\n",
       "      <td>9.36</td>\n",
       "      <td>...</td>\n",
       "      <td>41.135</td>\n",
       "      <td>46.77</td>\n",
       "      <td>22.45</td>\n",
       "      <td>28.297</td>\n",
       "      <td>13.294</td>\n",
       "      <td>no</td>\n",
       "      <td>0</td>\n",
       "      <td>5.68510137101081</td>\n",
       "      <td>4.88764999587309</td>\n",
       "      <td>0.93134861016133</td>\n",
       "    </tr>\n",
       "    <tr>\n",
       "      <th>4</th>\n",
       "      <td>BAQ2420.3</td>\n",
       "      <td>CCTCGGGTACTA</td>\n",
       "      <td>2420</td>\n",
       "      <td>0.083</td>\n",
       "      <td>15.92</td>\n",
       "      <td>C</td>\n",
       "      <td>Baquedano</td>\n",
       "      <td>BAQ2420</td>\n",
       "      <td>2</td>\n",
       "      <td>9.36</td>\n",
       "      <td>...</td>\n",
       "      <td>41.135</td>\n",
       "      <td>46.77</td>\n",
       "      <td>22.45</td>\n",
       "      <td>28.297</td>\n",
       "      <td>13.294</td>\n",
       "      <td>no</td>\n",
       "      <td>0</td>\n",
       "      <td>5.53301985340344</td>\n",
       "      <td>4.90612457180694</td>\n",
       "      <td>0.941773392996793</td>\n",
       "    </tr>\n",
       "    <tr>\n",
       "      <th>5</th>\n",
       "      <td>BAQ2420.1.3</td>\n",
       "      <td>ATTCAGATGGCA</td>\n",
       "      <td>2420</td>\n",
       "      <td>0.132</td>\n",
       "      <td>10</td>\n",
       "      <td>H</td>\n",
       "      <td>Baquedano</td>\n",
       "      <td>BAQ2420</td>\n",
       "      <td>3</td>\n",
       "      <td>8.9</td>\n",
       "      <td>...</td>\n",
       "      <td>41.135</td>\n",
       "      <td>46.77</td>\n",
       "      <td>22.45</td>\n",
       "      <td>28.297</td>\n",
       "      <td>13.294</td>\n",
       "      <td>no</td>\n",
       "      <td>0</td>\n",
       "      <td>5.71645820895716</td>\n",
       "      <td>4.45649199972679</td>\n",
       "      <td>0.868833321344219</td>\n",
       "    </tr>\n",
       "  </tbody>\n",
       "</table>\n",
       "<p>5 rows × 24 columns</p>\n",
       "</div>"
      ],
      "text/plain": [
       "            id barcode-sequence elevation extract-concen  \\\n",
       "1  BAQ2420.1.1     ACACAGTCCTGA      2420           0.35   \n",
       "2  BAQ2420.1.2     ATTATACGGCGC      2420          0.108   \n",
       "3    BAQ2420.2     TAAACGCGACTC      2420          0.089   \n",
       "4    BAQ2420.3     CCTCGGGTACTA      2420          0.083   \n",
       "5  BAQ2420.1.3     ATTCAGATGGCA      2420          0.132   \n",
       "\n",
       "  amplicon-concentration extract-group-no transect-name site-name depth    ph  \\\n",
       "1                    7.4                H     Baquedano   BAQ2420     1  9.33   \n",
       "2                  11.42                H     Baquedano   BAQ2420     2  9.36   \n",
       "3                  10.06                A     Baquedano   BAQ2420     2  9.36   \n",
       "4                  15.92                C     Baquedano   BAQ2420     2  9.36   \n",
       "5                     10                H     Baquedano   BAQ2420     3   8.9   \n",
       "\n",
       "   ... relative-humidity-soil-low percent-relative-humidity-soil-100  \\\n",
       "1  ...                     41.135                              46.77   \n",
       "2  ...                     41.135                              46.77   \n",
       "3  ...                     41.135                              46.77   \n",
       "4  ...                     41.135                              46.77   \n",
       "5  ...                     41.135                              46.77   \n",
       "\n",
       "  average-soil-temperature temperature-soil-high temperature-soil-low  \\\n",
       "1                    22.45                28.297               13.294   \n",
       "2                    22.45                28.297               13.294   \n",
       "3                    22.45                28.297               13.294   \n",
       "4                    22.45                28.297               13.294   \n",
       "5                    22.45                28.297               13.294   \n",
       "\n",
       "  vegetation percentcover          faith_pd   shannon_entropy  \\\n",
       "1         no            0   5.8065988333929  4.21212170262176   \n",
       "2         no            0  6.19901836366772  4.55460592602971   \n",
       "3         no            0  5.68510137101081  4.88764999587309   \n",
       "4         no            0  5.53301985340344  4.90612457180694   \n",
       "5         no            0  5.71645820895716  4.45649199972679   \n",
       "\n",
       "     pielou_evenness  \n",
       "1  0.896112269319252  \n",
       "2  0.910921185205943  \n",
       "3   0.93134861016133  \n",
       "4  0.941773392996793  \n",
       "5  0.868833321344219  \n",
       "\n",
       "[5 rows x 24 columns]"
      ]
     },
     "execution_count": 61,
     "metadata": {},
     "output_type": "execute_result"
    }
   ],
   "source": [
    "metadata_al1=metadata_al.drop(0, axis=0)\n",
    "metadata_al1.head()"
   ]
  },
  {
   "cell_type": "markdown",
   "id": "cbe241f2",
   "metadata": {},
   "source": [
    "#### Checking null counts"
   ]
  },
  {
   "cell_type": "code",
   "execution_count": 62,
   "id": "57a99559",
   "metadata": {},
   "outputs": [
    {
     "data": {
      "text/plain": [
       "id                                    0\n",
       "barcode-sequence                      0\n",
       "elevation                             0\n",
       "extract-concen                        0\n",
       "amplicon-concentration                0\n",
       "extract-group-no                      0\n",
       "transect-name                         0\n",
       "site-name                             0\n",
       "depth                                 0\n",
       "ph                                    0\n",
       "toc                                   9\n",
       "ec                                    9\n",
       "average-soil-relative-humidity        0\n",
       "relative-humidity-soil-high           0\n",
       "relative-humidity-soil-low            0\n",
       "percent-relative-humidity-soil-100    0\n",
       "average-soil-temperature              0\n",
       "temperature-soil-high                 0\n",
       "temperature-soil-low                  0\n",
       "vegetation                            0\n",
       "percentcover                          0\n",
       "faith_pd                              0\n",
       "shannon_entropy                       0\n",
       "pielou_evenness                       0\n",
       "dtype: int64"
      ]
     },
     "execution_count": 62,
     "metadata": {},
     "output_type": "execute_result"
    }
   ],
   "source": [
    "metadata_al1.isnull().sum()"
   ]
  },
  {
   "cell_type": "markdown",
   "id": "0e3125e0",
   "metadata": {},
   "source": [
    "#### Changing names of the columns "
   ]
  },
  {
   "cell_type": "code",
   "execution_count": 63,
   "id": "2b59b218",
   "metadata": {},
   "outputs": [],
   "source": [
    "metadata_al2 = metadata_al1.rename(columns={'barcode-sequence' : 'barcode_sequence',\n",
    "                                            'extract-concen' : 'extract_concen', \n",
    "                                            'amplicon_concentration' : 'amplicon_concentration', \n",
    "                                            'extract-group-no':'extract_group_no', \n",
    "                                            'site-name': 'site_name',\n",
    "                                            'transect-name' : 'transect_name', \n",
    "                                            'average-soil-relative-humidity': 'average_soil_relative_humidity', \n",
    "                                            'average-soil-temperature' : 'average_soil_temperature',\n",
    "                                            'relative-humidity-soil-high' : 'relative_humidity_soil_high',\n",
    "                                            'relative-humidity-soil-low' : 'relative_humidity_soil_low',\n",
    "                                            'percent-relative-humidity-soil-100' : 'percent_relative_humidity_soil_100',\n",
    "                                            'temperature-soil-high' : 'temperature_soil_high',\n",
    "                                            'temperature-soil-low' : 'temperature_soil_low'})"
   ]
  },
  {
   "cell_type": "code",
   "execution_count": 64,
   "id": "1f7840fe",
   "metadata": {},
   "outputs": [
    {
     "data": {
      "text/plain": [
       "Index(['id', 'barcode_sequence', 'elevation', 'extract_concen',\n",
       "       'amplicon-concentration', 'extract_group_no', 'transect_name',\n",
       "       'site_name', 'depth', 'ph', 'toc', 'ec',\n",
       "       'average_soil_relative_humidity', 'relative_humidity_soil_high',\n",
       "       'relative_humidity_soil_low', 'percent_relative_humidity_soil_100',\n",
       "       'average_soil_temperature', 'temperature_soil_high',\n",
       "       'temperature_soil_low', 'vegetation', 'percentcover', 'faith_pd',\n",
       "       'shannon_entropy', 'pielou_evenness'],\n",
       "      dtype='object')"
      ]
     },
     "execution_count": 64,
     "metadata": {},
     "output_type": "execute_result"
    }
   ],
   "source": [
    "metadata_al2.columns"
   ]
  },
  {
   "cell_type": "markdown",
   "id": "4bf2d136",
   "metadata": {},
   "source": [
    "#### Changing the teh type of data from object to float"
   ]
  },
  {
   "cell_type": "code",
   "execution_count": 65,
   "id": "62b838ff",
   "metadata": {},
   "outputs": [
    {
     "data": {
      "text/plain": [
       "dtype('O')"
      ]
     },
     "execution_count": 65,
     "metadata": {},
     "output_type": "execute_result"
    }
   ],
   "source": [
    "metadata_al2['average_soil_relative_humidity'].dtype"
   ]
  },
  {
   "cell_type": "code",
   "execution_count": 66,
   "id": "1f025f78",
   "metadata": {},
   "outputs": [],
   "source": [
    "metadata_al2[['elevation', 'extract_concen', 'amplicon-concentration', 'depth', 'ph', 'toc', 'ec',\n",
    "       'average_soil_relative_humidity', 'relative_humidity_soil_high',\n",
    "       'relative_humidity_soil_low', 'percent_relative_humidity_soil_100',\n",
    "       'average_soil_temperature', 'temperature_soil_high',\n",
    "       'temperature_soil_low', 'percentcover', 'faith_pd',\n",
    "       'shannon_entropy', 'pielou_evenness']] = metadata_al2[['elevation', 'extract_concen',\n",
    "       'amplicon-concentration', 'depth', 'ph', 'toc', 'ec',\n",
    "       'average_soil_relative_humidity', 'relative_humidity_soil_high',\n",
    "       'relative_humidity_soil_low', 'percent_relative_humidity_soil_100',\n",
    "       'average_soil_temperature', 'temperature_soil_high',\n",
    "       'temperature_soil_low', 'percentcover', 'faith_pd',\n",
    "       'shannon_entropy', 'pielou_evenness']].astype(float).copy()"
   ]
  },
  {
   "cell_type": "code",
   "execution_count": 67,
   "id": "fbea0403",
   "metadata": {},
   "outputs": [
    {
     "data": {
      "text/plain": [
       "dtype('float64')"
      ]
     },
     "execution_count": 67,
     "metadata": {},
     "output_type": "execute_result"
    }
   ],
   "source": [
    "metadata_al2['average_soil_relative_humidity'].dtype"
   ]
  },
  {
   "cell_type": "markdown",
   "id": "e02cda84",
   "metadata": {},
   "source": [
    "#### Calculating the correlation between Shannon Index (diversity) and Average Soil Relative Humidity"
   ]
  },
  {
   "cell_type": "code",
   "execution_count": 68,
   "id": "e8cd9e82",
   "metadata": {
    "scrolled": true
   },
   "outputs": [
    {
     "data": {
      "text/plain": [
       "0.6483912054803316"
      ]
     },
     "execution_count": 68,
     "metadata": {},
     "output_type": "execute_result"
    }
   ],
   "source": [
    "metadata_al2['shannon_entropy'].corr(metadata_al2['average_soil_relative_humidity'])"
   ]
  },
  {
   "cell_type": "markdown",
   "id": "5fd18732",
   "metadata": {},
   "source": [
    "#### Calculating the correlation between Faith's Phylogenetic Diverisity Index (richness) and Average Soil Relative Humidity"
   ]
  },
  {
   "cell_type": "code",
   "execution_count": 69,
   "id": "aa51d972",
   "metadata": {},
   "outputs": [
    {
     "data": {
      "text/plain": [
       "0.6770761908935745"
      ]
     },
     "execution_count": 69,
     "metadata": {},
     "output_type": "execute_result"
    }
   ],
   "source": [
    "metadata_al2['faith_pd'].corr(metadata_al2['average_soil_relative_humidity'])"
   ]
  },
  {
   "cell_type": "code",
   "execution_count": 70,
   "id": "d7611ccc",
   "metadata": {},
   "outputs": [],
   "source": [
    "%matplotlib inline"
   ]
  },
  {
   "cell_type": "markdown",
   "id": "4fa2dcd5",
   "metadata": {},
   "source": [
    "#### Drawing a plot"
   ]
  },
  {
   "cell_type": "code",
   "execution_count": 71,
   "id": "f7e1aab3",
   "metadata": {},
   "outputs": [
    {
     "data": {
      "image/png": "[encoded data removed]",
      "text/plain": [
       "<Figure size 640x480 with 2 Axes>"
      ]
     },
     "metadata": {},
     "output_type": "display_data"
    }
   ],
   "source": [
    "# Scatter plot 1\n",
    "plt.subplot(2, 1, 1)\n",
    "plt.scatter(metadata_al2.average_soil_relative_humidity, metadata_al2.shannon_entropy, color='#648FFF', marker='x')\n",
    "plt.ylabel('Shannon Entropy')\n",
    "\n",
    "# Calculation of the trend line\n",
    "slope1, intercept1 = np.polyfit(metadata_al2.average_soil_relative_humidity, metadata_al2.shannon_entropy, 1)\n",
    "x1 = np.array([min(metadata_al2.average_soil_relative_humidity), max(metadata_al2.average_soil_relative_humidity)])\n",
    "y1 = slope1 * x1 + intercept1\n",
    "\n",
    "# Trend line\n",
    "plt.plot(x1, y1, color='green', marker='d')\n",
    "\n",
    "plt.text(0.1, 0.95, f'r=0.47', ha='right', va='top', transform=plt.gca().transAxes)\n",
    "\n",
    "# Scatter plot 2\n",
    "plt.subplot(2, 1, 2)\n",
    "plt.scatter(metadata_al2.average_soil_relative_humidity, metadata_al2.faith_pd, color='#DC267F', marker='s')\n",
    "plt.xlabel('Average Soil Relative Humidity')\n",
    "plt.ylabel('Faith s PD (Richness)')\n",
    "\n",
    "# Calculation of the trend line\n",
    "slope2, intercept2 = np.polyfit(metadata_al2.average_soil_relative_humidity, metadata_al2.faith_pd, 1)\n",
    "x2 = np.array([min(metadata_al2.average_soil_relative_humidity), max(metadata_al2.average_soil_relative_humidity)])\n",
    "y2 = slope2 * x2 + intercept2\n",
    "\n",
    "# Trend line\n",
    "plt.plot(x2, y2, color='green')\n",
    "\n",
    "plt.text(0.1, 0.95, f'r=0.66', ha='right', va='top', transform=plt.gca().transAxes)\n",
    "\n",
    "plt.suptitle('Correlation')\n",
    "plt.tight_layout()\n",
    "plt.show()"
   ]
  },
  {
   "cell_type": "code",
   "execution_count": 72,
   "id": "8b6bf66f",
   "metadata": {},
   "outputs": [
    {
     "name": "stdout",
     "output_type": "stream",
     "text": [
      "Spearman's Rank Correlation: 0.474158755968921\n",
      "P-value: 0.0008719286697847817\n"
     ]
    }
   ],
   "source": [
    "# Calculation of Spearman's rank correlation coefficient and p-value\n",
    "correlation, p_value = spearmanr(metadata_al2['shannon_entropy'], metadata_al2['average_soil_relative_humidity'])\n",
    "\n",
    "print(f\"Spearman's Rank Correlation: {correlation}\")\n",
    "print(f\"P-value: {p_value}\")"
   ]
  },
  {
   "cell_type": "code",
   "execution_count": 73,
   "id": "0ac074ad",
   "metadata": {},
   "outputs": [
    {
     "name": "stdout",
     "output_type": "stream",
     "text": [
      "Spearman's Rank Correlation: 0.6556483924558463\n",
      "P-value: 7.597341163389885e-07\n"
     ]
    }
   ],
   "source": [
    "# Calculation of Spearman's rank correlation coefficient and p-value\n",
    "correlation, p_value = spearmanr(metadata_al2['faith_pd'], metadata_al2['average_soil_relative_humidity'])\n",
    "\n",
    "print(f\"Spearman's Rank Correlation: {correlation}\")\n",
    "print(f\"P-value: {p_value}\")"
   ]
  },
  {
   "cell_type": "markdown",
   "id": "7633f5f9",
   "metadata": {},
   "source": [
    "Microbial community richness (Faith’s phylogenetic diversity; rs = 0.66; P < 0.0001) and diversity (Shannon index; Spearman’s rank correlation rs = 0.47; P = 0.0001) decreased significantly with decreasing average soil relative humidity. "
   ]
  },
  {
   "cell_type": "markdown",
   "id": "d702b242",
   "metadata": {},
   "source": [
    "#### Correlation between microbial community composition and vegetation "
   ]
  },
  {
   "cell_type": "code",
   "execution_count": 74,
   "id": "cdd84655",
   "metadata": {},
   "outputs": [
    {
     "data": {
      "text/plain": [
       "yes    29\n",
       "no     17\n",
       "Name: vegetation, dtype: int64"
      ]
     },
     "execution_count": 74,
     "metadata": {},
     "output_type": "execute_result"
    }
   ],
   "source": [
    "metadata_al2['vegetation'].value_counts()"
   ]
  },
  {
   "cell_type": "code",
   "execution_count": 75,
   "id": "59580952",
   "metadata": {},
   "outputs": [
    {
     "name": "stdout",
     "output_type": "stream",
     "text": [
      "F-Statistic: 20.851927012440807\n",
      "P-value: 3.978201706084251e-05\n"
     ]
    }
   ],
   "source": [
    "# Creation of numerical variable groups based on the categorical variable\n",
    "group1 = metadata_al2['faith_pd'][metadata_al2['vegetation'] == 'yes']\n",
    "group2 = metadata_al2['faith_pd'][metadata_al2['vegetation'] == 'no']\n",
    "\n",
    "# Calculation of ANOVA\n",
    "f_statistic, p_value = stats.f_oneway(group1, group2)\n",
    "\n",
    "print(\"F-Statistic:\", f_statistic)\n",
    "print(\"P-value:\", p_value)"
   ]
  },
  {
   "cell_type": "code",
   "execution_count": 76,
   "id": "5d2f19a0",
   "metadata": {},
   "outputs": [
    {
     "name": "stdout",
     "output_type": "stream",
     "text": [
      "F-Statistic: 11.422310032908273\n",
      "P-value: 0.0015298127460164875\n"
     ]
    }
   ],
   "source": [
    "# Creation of numerical variable groups based on the categorical variable\n",
    "group1 = metadata_al2['shannon_entropy'][metadata_al2['vegetation'] == 'yes']\n",
    "group2 = metadata_al2['shannon_entropy'][metadata_al2['vegetation'] == 'no']\n",
    "\n",
    "# Calculation of ANOVA\n",
    "f_statistic, p_value = stats.f_oneway(group1, group2)\n",
    "\n",
    "print(\"F-Statistic:\", f_statistic)\n",
    "print(\"P-value:\", p_value)"
   ]
  },
  {
   "cell_type": "markdown",
   "id": "b473dc78",
   "metadata": {},
   "source": [
    "ANOVA analysis was performed to check the influence of vegetation on microbial comminuty richness.  F-statistic value of 20.8519 indicates that there is a significant difference in the means of the richness between the two groups.\n",
    "Richness was significantly greater in vegetated sites than in unvegetated sites (F-Statistic: 20.85, P < 0.000).\n",
    "Statistically, there is a significant difference between microbial comminuty diversity of of soil samples collected from vegetated and nonvegetated sites, however, the differenc is not that strong when compared to richness.  \n"
   ]
  },
  {
   "cell_type": "markdown",
   "id": "a0fdb5e2",
   "metadata": {},
   "source": [
    "#### Correlation between microbial community composition and sample isolation site"
   ]
  },
  {
   "cell_type": "code",
   "execution_count": 77,
   "id": "87482364",
   "metadata": {},
   "outputs": [
    {
     "data": {
      "text/plain": [
       "Yungay       26\n",
       "Baquedano    20\n",
       "Name: transect_name, dtype: int64"
      ]
     },
     "execution_count": 77,
     "metadata": {},
     "output_type": "execute_result"
    }
   ],
   "source": [
    "metadata_al2['transect_name'].value_counts()"
   ]
  },
  {
   "cell_type": "code",
   "execution_count": 78,
   "id": "27d61bd8",
   "metadata": {},
   "outputs": [
    {
     "name": "stdout",
     "output_type": "stream",
     "text": [
      "F-Statistic: 0.1968629207895313\n",
      "P-value: 0.6594393088385414\n"
     ]
    }
   ],
   "source": [
    "# Creation of numerical variable groups based on the categorical variable\n",
    "group1 = metadata_al2['faith_pd'][metadata_al2['transect_name'] == 'Yungay']\n",
    "group2 = metadata_al2['faith_pd'][metadata_al2['transect_name'] == 'Baquedano']\n",
    "\n",
    "# Calculation of ANOVA\n",
    "f_statistic, p_value = stats.f_oneway(group1, group2)\n",
    "\n",
    "print(\"F-Statistic:\", f_statistic)\n",
    "print(\"P-value:\", p_value)"
   ]
  },
  {
   "cell_type": "markdown",
   "id": "f674c943",
   "metadata": {},
   "source": [
    "There is no significant difference in microbial community richness between sample collection site. "
   ]
  },
  {
   "cell_type": "code",
   "execution_count": 79,
   "id": "66486965",
   "metadata": {},
   "outputs": [
    {
     "name": "stdout",
     "output_type": "stream",
     "text": [
      "F-Statistic: 5.68191144371111\n",
      "P-value: 0.021521089599932666\n"
     ]
    }
   ],
   "source": [
    "# Creation of numerical variable groups based on the categorical variable\n",
    "group1 = metadata_al2['shannon_entropy'][metadata_al2['transect_name'] == 'Yungay']\n",
    "group2 = metadata_al2['shannon_entropy'][metadata_al2['transect_name'] == 'Baquedano']\n",
    "\n",
    "# Calculation of ANOVA\n",
    "f_statistic, p_value = stats.f_oneway(group1, group2)\n",
    "\n",
    "print(\"F-Statistic:\", f_statistic)\n",
    "print(\"P-value:\", p_value)\n",
    "\n"
   ]
  },
  {
   "cell_type": "markdown",
   "id": "bb287089",
   "metadata": {},
   "source": [
    "There is significant difference in microbial community diversity between sample collection site."
   ]
  }
 ],
 "metadata": {
  "kernelspec": {
   "display_name": "Python 3 (ipykernel)",
   "language": "python",
   "name": "python3"
  },
  "language_info": {
   "codemirror_mode": {
    "name": "ipython",
    "version": 3
   },
   "file_extension": ".py",
   "mimetype": "text/x-python",
   "name": "python",
   "nbconvert_exporter": "python",
   "pygments_lexer": "ipython3",
   "version": "3.8.15"
  }
 },
 "nbformat": 4,
 "nbformat_minor": 5
}
